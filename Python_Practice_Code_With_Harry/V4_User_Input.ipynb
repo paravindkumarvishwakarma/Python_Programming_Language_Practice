{
 "cells": [
  {
   "cell_type": "markdown",
   "id": "8850759a",
   "metadata": {},
   "source": [
    "Question Description"
   ]
  },
  {
   "cell_type": "code",
   "execution_count": 2,
   "id": "4ea8373b",
   "metadata": {},
   "outputs": [],
   "source": [
    "#User Input Practice Question\n",
    "import math"
   ]
  },
  {
   "cell_type": "markdown",
   "id": "f893143f",
   "metadata": {},
   "source": [
    "Que-1. Ask the user for their name and print a greeting message."
   ]
  },
  {
   "cell_type": "code",
   "execution_count": null,
   "id": "65fc4f13",
   "metadata": {},
   "outputs": [],
   "source": [
    "print(\"Que-1. Ask the user for their name and print a greeting message.\")\n",
    "Name = input(\"Enter your name = \") #Taking user input\n",
    "print(\"Nice to meet you, \"+Name)\n",
    "print(\"\\n\")"
   ]
  },
  {
   "cell_type": "markdown",
   "id": "ce224207",
   "metadata": {},
   "source": [
    "Que-2. Take two numbers as input from the user and print their sum."
   ]
  },
  {
   "cell_type": "code",
   "execution_count": null,
   "id": "4b59f9f1",
   "metadata": {},
   "outputs": [],
   "source": [
    "print(\"Que-2. Take two numbers as input from the user and print their sum.\")\n",
    "num1 = int(input(\"Enter First Number = \")) #Taking user input\n",
    "num2 = int(input(\"Enter First Number = \")) #Taking user input\n",
    "print(\"The sum of two number is = \",num1+num2) #adding both number\n",
    "print(\"\\n\")"
   ]
  },
  {
   "cell_type": "markdown",
   "id": "bf2afea1",
   "metadata": {},
   "source": [
    "Que-3. Ask the user to enter their age and print: 'You are X years old'."
   ]
  },
  {
   "cell_type": "code",
   "execution_count": null,
   "id": "8869a011",
   "metadata": {},
   "outputs": [],
   "source": [
    "print(\"Que-3. Ask the user to enter their age and print: 'You are X years old'.\")\n",
    "Age = input(\"Enter your age = \")\n",
    "print(\"You are \"+Age+\" years old\")\n",
    "print(\"\\n\")"
   ]
  },
  {
   "cell_type": "markdown",
   "id": "8be22ed3",
   "metadata": {},
   "source": [
    "Que-4. Take a string input and print its length."
   ]
  },
  {
   "cell_type": "code",
   "execution_count": null,
   "id": "cc0fa3cb",
   "metadata": {},
   "outputs": [],
   "source": [
    "print(\"Que-4. Take a string input and print its length.\")\n",
    "Str_inp = input(\"Enter a string = \")\n",
    "print(len(Str_inp))\n",
    "print(\"\\n\")"
   ]
  },
  {
   "cell_type": "markdown",
   "id": "75042325",
   "metadata": {},
   "source": [
    "Que-5. Ask the user for their first name and last name, then print the full name in reverse order."
   ]
  },
  {
   "cell_type": "code",
   "execution_count": null,
   "id": "36352a6d",
   "metadata": {},
   "outputs": [],
   "source": [
    "print(\"Que-5. Ask the user for their first name and last name, then print the full name in reverse order.\")\n",
    "First_Name = input(\"Enter your first name = \")\n",
    "Last_Name = input(\"Enter your Last name = \")\n",
    "Full_Name = First_Name+\" \"+Last_Name\n",
    "Reverse_Name = Full_Name[::-1]\n",
    "print(Reverse_Name)"
   ]
  },
  {
   "cell_type": "markdown",
   "id": "4c820707",
   "metadata": {},
   "source": [
    "Que-6. Take two numbers as input and print their product, quotient, and remainder."
   ]
  },
  {
   "cell_type": "code",
   "execution_count": null,
   "id": "ae6b15a2",
   "metadata": {},
   "outputs": [],
   "source": [
    "import math\n",
    "print(\"Que-6. Take two numbers as input and print their product, quotient, and remainder.\")\n",
    "num1 = int(input(\"Enter number1 = \"))\n",
    "num2 = int(input(\"Enter number2 = \"))\n",
    "\n",
    "print(\"Products = \",num1*num2)\n",
    "print(\"Quotient = \",math.floor(num1/num2))\n",
    "print(\"Reminder = \",num1%num2)\n",
    "\n",
    "print(\"\\n\")"
   ]
  },
  {
   "cell_type": "markdown",
   "id": "11122be0",
   "metadata": {},
   "source": [
    "Que-7. Ask the user to enter a sentence and print the first and last character of the sentence."
   ]
  },
  {
   "cell_type": "code",
   "execution_count": null,
   "id": "85a9e2da",
   "metadata": {},
   "outputs": [],
   "source": [
    "print(\"Que-7. Ask the user to enter a sentence and print the first and last character of the sentence.\")\n",
    "print(\"\\n\")\n",
    "Sentance = input(\"Enter a sentance of your choice = \") #Taking user input\n",
    "print(Sentance[0], Sentance[-1]) #Printing first index and last index"
   ]
  },
  {
   "cell_type": "markdown",
   "id": "dc3c2dbd",
   "metadata": {},
   "source": [
    "Que-8. Take a number as input and print its square and cube."
   ]
  },
  {
   "cell_type": "code",
   "execution_count": null,
   "id": "4a3ae14e",
   "metadata": {},
   "outputs": [
    {
     "name": "stdout",
     "output_type": "stream",
     "text": [
      "Que-8. Take a number as input and print its square and cube.\n",
      "Square of the number is  4\n",
      "Cube of the number is  8\n",
      "\n",
      "\n"
     ]
    }
   ],
   "source": [
    "print(\"Que-8. Take a number as input and print its square and cube.\")\n",
    "num1 = int(input(\"Enter a Number = \")) #Taking user input\n",
    "print(\"Square of the number is \",num1**2) #Printing squure of the number\n",
    "print(\"Cube of the number is \",num1**3)   #Print Cube of the number\n",
    "print(\"\\n\")"
   ]
  },
  {
   "cell_type": "markdown",
   "id": "bb8aec7b",
   "metadata": {},
   "source": [
    "Que-9. Ask the user for their birth year and calculate their current age."
   ]
  },
  {
   "cell_type": "code",
   "execution_count": 6,
   "id": "5de85a93",
   "metadata": {},
   "outputs": [
    {
     "name": "stdout",
     "output_type": "stream",
     "text": [
      "Que-9. Ask the user for their birth year and calculate their current age.\n",
      "Your current age is  25\n",
      "\n",
      "\n"
     ]
    }
   ],
   "source": [
    "from datetime import datetime\n",
    "print(\"Que-9. Ask the user for their birth year and calculate their current age.\")\n",
    "birth_Year = int(input(\"Enter your birth year = \"))\n",
    "print(\"Your current age is \",datetime.now().year-birth_Year)\n",
    "print(\"\\n\")"
   ]
  },
  {
   "cell_type": "markdown",
   "id": "f1e488b6",
   "metadata": {},
   "source": [
    "Que-10. Take three numbers as input and print the largest one."
   ]
  },
  {
   "cell_type": "code",
   "execution_count": 14,
   "id": "e13eb0cc",
   "metadata": {},
   "outputs": [
    {
     "name": "stdout",
     "output_type": "stream",
     "text": [
      "Que-10. Take three numbers as input and print the largest one.\n",
      "30\n",
      "\n",
      "\n"
     ]
    }
   ],
   "source": [
    "print(\"Que-10. Take three numbers as input and print the largest one.\")\n",
    "a = int(input(\"Enter first number = \"))\n",
    "b = int(input(\"Enter Second number = \"))\n",
    "c = int(input(\"Enter Third number = \"))\n",
    "print(max(a,b,c))\n",
    "print(\"\\n\")"
   ]
  },
  {
   "cell_type": "markdown",
   "id": "e181a452",
   "metadata": {},
   "source": [
    "Que-11. Ask the user to enter a temperature in Celsius and convert it to Fahrenheit."
   ]
  },
  {
   "cell_type": "code",
   "execution_count": 15,
   "id": "7b26ae3f",
   "metadata": {},
   "outputs": [
    {
     "name": "stdout",
     "output_type": "stream",
     "text": [
      "Que-11. Ask the user to enter a temperature in Celsius and convert it to Fahrenheit.\n",
      "77.0\n",
      "\n",
      "\n"
     ]
    }
   ],
   "source": [
    "print(\"Que-11. Ask the user to enter a temperature in Celsius and convert it to Fahrenheit.\")\n",
    "temp = float(input(\"Enter temparature in celsius = \"))\n",
    "print(((9/5)*temp)+32)\n",
    "print(\"\\n\")"
   ]
  },
  {
   "cell_type": "markdown",
   "id": "eaa6df75",
   "metadata": {},
   "source": [
    "Que-12. Create a program that asks for the user's name and age, then prints: 'Hello [Name], you will turn 100 years old in the year XXXX'."
   ]
  },
  {
   "cell_type": "code",
   "execution_count": null,
   "id": "bccfd2db",
   "metadata": {},
   "outputs": [
    {
     "name": "stdout",
     "output_type": "stream",
     "text": [
      "Que-12. Create a program that asks for the user's name and age, then prints: 'Hello [Name], you will turn 100 years old in the year XXXX'.\n",
      "Hello Paravind Kumar Vishwakarma, you will turn 100 years old in the year 2101\n",
      "\n",
      "\n"
     ]
    }
   ],
   "source": [
    "import math\n",
    "print(\"Que-12. Create a program that asks for the user's name and age, then prints: 'Hello [Name], you will turn 100 years old in the year XXXX'.\")\n",
    "name = input(\"Enter your name = \")\n",
    "age = int(input(\"Enter you age = \"))\n",
    "year_turn_100 = datetime.now().year + (100-age) #Taking current year\n",
    "print(f\"Hello {name}, you will turn 100 years old in the year {year_turn_100}\")\n",
    "print(\"\\n\")"
   ]
  },
  {
   "cell_type": "markdown",
   "id": "a33d7ae4",
   "metadata": {},
   "source": [
    "Que-13. Ask the user to enter their favorite color and print \"Your favorite color is [color]\"."
   ]
  },
  {
   "cell_type": "code",
   "execution_count": 19,
   "id": "72b8e114",
   "metadata": {},
   "outputs": [
    {
     "name": "stdout",
     "output_type": "stream",
     "text": [
      "Que-13. Ask the user to enter their favorite color and print 'Your favorite color is [color]'.\n",
      "Your favorite color is Black\n",
      "\n",
      "\n"
     ]
    }
   ],
   "source": [
    "print(\"Que-13. Ask the user to enter their favorite color and print 'Your favorite color is [color]'.\")\n",
    "fav_color = input(\"Enter your favorite color = \")\n",
    "print(f\"Your favorite color is {fav_color}\")\n",
    "print(\"\\n\")"
   ]
  },
  {
   "cell_type": "markdown",
   "id": "b2423143",
   "metadata": {},
   "source": [
    "Que-14. Take the user's name and age, then print: \"Hello [name], you are [age] years old.\""
   ]
  },
  {
   "cell_type": "code",
   "execution_count": 25,
   "id": "1106a0b9",
   "metadata": {},
   "outputs": [
    {
     "name": "stdout",
     "output_type": "stream",
     "text": [
      "Que-14. Take the user's name and age, then print: 'Hello [name], you are [age] years old.'\n",
      "Hello Paravind, you are 25 years old.\n",
      "\n",
      "\n"
     ]
    }
   ],
   "source": [
    "print(\"Que-14. Take the user's name and age, then print: 'Hello [name], you are [age] years old.'\")\n",
    "user_Name = input(\"Enter your name = \")\n",
    "user_Age = int(input(\"Enter your age = \"))\n",
    "print(f\"Hello {user_Name}, you are {user_Age} years old.\")\n",
    "print(\"\\n\")"
   ]
  },
  {
   "cell_type": "markdown",
   "id": "900121b3",
   "metadata": {},
   "source": [
    "Que-15. Ask the user to input two floating-point numbers and print their average."
   ]
  },
  {
   "cell_type": "code",
   "execution_count": 27,
   "id": "278c63fe",
   "metadata": {},
   "outputs": [
    {
     "name": "stdout",
     "output_type": "stream",
     "text": [
      "Que-15. Ask the user to input two floating-point numbers and print their average.\n",
      "Average of two floating point number is =  10.2\n",
      "\n",
      "\n"
     ]
    }
   ],
   "source": [
    "print(\"Que-15. Ask the user to input two floating-point numbers and print their average.\")\n",
    "float_num1 = float(input(\"Enter a floating point number 1 = \"))\n",
    "float_num2 = float(input(\"Enter a floating point number 2 = \"))\n",
    "print(\"Average of two floating point number is = \",(float_num1+float_num2)/2)\n",
    "print(\"\\n\")"
   ]
  },
  {
   "cell_type": "markdown",
   "id": "6fac9f54",
   "metadata": {},
   "source": [
    "Que-16. Take a string input and print it in uppercase."
   ]
  },
  {
   "cell_type": "code",
   "execution_count": 29,
   "id": "9fa17a84",
   "metadata": {},
   "outputs": [
    {
     "name": "stdout",
     "output_type": "stream",
     "text": [
      "Que-16. Take a string input and print it in uppercase.\n",
      "PARAVIND KUMAR VISHWAKARMA\n",
      "\n",
      "\n"
     ]
    }
   ],
   "source": [
    "print(\"Que-16. Take a string input and print it in uppercase.\")\n",
    "string = input(\"Enter a string = \")\n",
    "print(string.upper())\n",
    "print(\"\\n\")"
   ]
  },
  {
   "cell_type": "markdown",
   "id": "1645d9b6",
   "metadata": {},
   "source": [
    "Que-17. Ask the user to enter a number and print whether it is even or odd."
   ]
  },
  {
   "cell_type": "code",
   "execution_count": 35,
   "id": "d6466804",
   "metadata": {},
   "outputs": [
    {
     "name": "stdout",
     "output_type": "stream",
     "text": [
      "Que-17. Ask the user to enter a number and print whether it is even or odd.\n",
      "The number is odd.\n",
      "\n",
      "\n"
     ]
    }
   ],
   "source": [
    "print(\"Que-17. Ask the user to enter a number and print whether it is even or odd.\")\n",
    "num_check = int(input(\"Enter a number = \"))\n",
    "result = {0: \"The number is even.\", 1: \"The number is odd.\"}\n",
    "print(result[num_check % 2])\n",
    "print(\"\\n\")"
   ]
  },
  {
   "cell_type": "markdown",
   "id": "96be14b4",
   "metadata": {},
   "source": [
    "Que-18. Take a sentence as input and print the number of words in it."
   ]
  },
  {
   "cell_type": "code",
   "execution_count": null,
   "id": "29c1a29a",
   "metadata": {},
   "outputs": [
    {
     "name": "stdout",
     "output_type": "stream",
     "text": [
      "Que-18. Take a sentence as input and print the number of words in it.\n",
      "3\n",
      "\n",
      "\n"
     ]
    }
   ],
   "source": [
    "print(\"Que-18. Take a sentence as input and print the number of words in it.\")\n",
    "sentance = input(\"Enter a sentance = \")\n",
    "print(len(sentance.split())) #Spliting sentance and counting word\n",
    "print(\"\\n\")"
   ]
  },
  {
   "cell_type": "markdown",
   "id": "9d3c1dfa",
   "metadata": {},
   "source": [
    "Que-19. Ask the user to enter their height in centimeters and convert it to meters."
   ]
  },
  {
   "cell_type": "code",
   "execution_count": null,
   "id": "9ba47092",
   "metadata": {},
   "outputs": [
    {
     "name": "stdout",
     "output_type": "stream",
     "text": [
      "Que-19. Ask the user to enter their height in centimeters and convert it to meters.\n",
      "1.0\n",
      "\n",
      "\n"
     ]
    }
   ],
   "source": [
    "print(\"Que-19. Ask the user to enter their height in centimeters and convert it to meters.\")\n",
    "centi_Height = float(input(\"Enter height in centimeter = \"))\n",
    "print(centi_Height / 100) #Converting Centimeter to meter\n",
    "print(\"\\n\")"
   ]
  },
  {
   "cell_type": "markdown",
   "id": "3bc408ee",
   "metadata": {},
   "source": [
    "Que-20. Take the user's first name and print the first three letters."
   ]
  },
  {
   "cell_type": "code",
   "execution_count": null,
   "id": "48cfb23a",
   "metadata": {},
   "outputs": [
    {
     "name": "stdout",
     "output_type": "stream",
     "text": [
      "Que-20. Take the user's first name and print the first three letters.\n",
      "Par\n",
      "\n",
      "\n"
     ]
    }
   ],
   "source": [
    "print(\"Que-20. Take the user's first name and print the first three letters.\")\n",
    "user_Name = input(\"Enter your name = \")\n",
    "print(user_Name[0:3]) #Printing first three letter of user name using indexing functions\n",
    "print(\"\\n\")"
   ]
  },
  {
   "cell_type": "markdown",
   "id": "4e496550",
   "metadata": {},
   "source": [
    "Que-21. Ask the user to enter a number and print its multiplication table up to 10."
   ]
  },
  {
   "cell_type": "code",
   "execution_count": 11,
   "id": "22bc5851",
   "metadata": {},
   "outputs": [
    {
     "name": "stdout",
     "output_type": "stream",
     "text": [
      "Que-21. Ask the user to enter a number and print its multiplication table up to 10.\n",
      "5  X  1  =  5\n",
      "5  X  2  =  10\n",
      "5  X  3  =  15\n",
      "5  X  4  =  20\n",
      "5  X  5  =  25\n",
      "5  X  6  =  30\n",
      "5  X  7  =  35\n",
      "5  X  8  =  40\n",
      "5  X  9  =  45\n",
      "5  X  10  =  50\n",
      "\n",
      "\n"
     ]
    }
   ],
   "source": [
    "print(\"Que-21. Ask the user to enter a number and print its multiplication table up to 10.\")\n",
    "num = int(input(\"Enter a number = \"))\n",
    "i = 1\n",
    "while i <= 10:\n",
    "    print(num,\" X \",i,\" = \",num*i)\n",
    "    i=i+1\n",
    "print(\"\\n\")"
   ]
  },
  {
   "cell_type": "markdown",
   "id": "8874f922",
   "metadata": {},
   "source": [
    "Que-22. Take two numbers as input and swap their values, then print them."
   ]
  },
  {
   "cell_type": "code",
   "execution_count": 16,
   "id": "bdcb4d0f",
   "metadata": {},
   "outputs": [
    {
     "name": "stdout",
     "output_type": "stream",
     "text": [
      "Que-22. Take two numbers as input and swap their values, then print them.\n",
      "The value of a =  20  The value of b is  10\n",
      "\n",
      "\n"
     ]
    }
   ],
   "source": [
    "print(\"Que-22. Take two numbers as input and swap their values, then print them.\")\n",
    "a = int(input(\"Enter first number = \"))\n",
    "b = int(input(\"Enter Second number = \"))\n",
    "a = a + b  #Adding both value of a and b\n",
    "b = a - b  #Subtracting b from a which give the value of a\n",
    "a = a - b  #Subtracting b from a which gives valie of a\n",
    "print(\"The value of a = \",a,\" The value of b is \",b)\n",
    "print(\"\\n\")"
   ]
  },
  {
   "cell_type": "markdown",
   "id": "3e0c7981",
   "metadata": {},
   "source": [
    "Que-23. Ask the user to enter a string and check if it is a palindrome."
   ]
  },
  {
   "cell_type": "code",
   "execution_count": null,
   "id": "caaf20b6",
   "metadata": {},
   "outputs": [],
   "source": [
    "print(\"Que-23. Ask the user to enter a string and check if it is a palindrome.\")\n",
    "str_value = input(\"Enter a String = \")\n",
    "\n",
    "print(\"\\n\")"
   ]
  },
  {
   "cell_type": "markdown",
   "id": "dbfcfa83",
   "metadata": {},
   "source": [
    "Que-24. Take the user's birth date (day, month, year) as input and print it in DD/MM/YYYY format."
   ]
  },
  {
   "cell_type": "code",
   "execution_count": null,
   "id": "a408ff4f",
   "metadata": {},
   "outputs": [],
   "source": [
    "print(\"Que-24. Take the user's birth date (day, month, year) as input and print it in DD/MM/YYYY format.\")\n",
    "print(\"\\n\")\n",
    "\n"
   ]
  },
  {
   "cell_type": "markdown",
   "id": "04589a87",
   "metadata": {},
   "source": [
    "Que-25. Ask the user to enter their city and country, then print them in the format: \"City, Country\"."
   ]
  },
  {
   "cell_type": "code",
   "execution_count": null,
   "id": "85d692ec",
   "metadata": {},
   "outputs": [],
   "source": [
    "print(\"Que-25. Ask the user to enter their city and country, then print them in the format: 'City, Country'.\")\n",
    "print(\"\\n\")\n",
    "\n"
   ]
  },
  {
   "cell_type": "markdown",
   "id": "f107b99a",
   "metadata": {},
   "source": [
    "Que-26. Take a number as input and print whether it is positive, negative, or zero."
   ]
  },
  {
   "cell_type": "code",
   "execution_count": null,
   "id": "c9af9103",
   "metadata": {},
   "outputs": [],
   "source": [
    "print(\"Que-26. Take a number as input and print whether it is positive, negative, or zero.\")\n",
    "print(\"\\n\")\n",
    "\n"
   ]
  },
  {
   "cell_type": "markdown",
   "id": "7fe52226",
   "metadata": {},
   "source": [
    "Que-27. Ask the user to enter a sentence and print it in reverse order."
   ]
  },
  {
   "cell_type": "code",
   "execution_count": null,
   "id": "c93960a4",
   "metadata": {},
   "outputs": [],
   "source": [
    "print(\"Que-27. Ask the user to enter a sentence and print it in reverse order.\")\n",
    "print(\"\\n\")\n",
    "\n"
   ]
  },
  {
   "cell_type": "markdown",
   "id": "bcd4e3ce",
   "metadata": {},
   "source": [
    "Que-28. Take a number as input and print its factorial."
   ]
  },
  {
   "cell_type": "code",
   "execution_count": null,
   "id": "0ad5931d",
   "metadata": {},
   "outputs": [],
   "source": [
    "print(\"Que-28. Take a number as input and print its factorial.\")\n",
    "print(\"\\n\")\n",
    "\n"
   ]
  },
  {
   "cell_type": "markdown",
   "id": "59e9b87f",
   "metadata": {},
   "source": [
    "Que-29. Ask the user to enter two numbers and calculate their average."
   ]
  },
  {
   "cell_type": "code",
   "execution_count": null,
   "id": "1fef8ab4",
   "metadata": {},
   "outputs": [],
   "source": [
    "print(\"Que-29. Ask the user to enter two numbers and calculate their average.\")\n",
    "print(\"\\n\")\n",
    "\n"
   ]
  },
  {
   "cell_type": "markdown",
   "id": "1ce150d2",
   "metadata": {},
   "source": [
    "Que-30. Ask the user to enter a string and print it without spaces."
   ]
  },
  {
   "cell_type": "code",
   "execution_count": null,
   "id": "6147efde",
   "metadata": {},
   "outputs": [],
   "source": [
    "print(\"Que-30. Ask the user to enter a string and print it without spaces.\")\n",
    "print(\"\\n\")\n",
    "\n"
   ]
  },
  {
   "cell_type": "markdown",
   "id": "810ffa5c",
   "metadata": {},
   "source": [
    "Que-31. Take a number as input and print the sum of its digits."
   ]
  },
  {
   "cell_type": "code",
   "execution_count": null,
   "id": "01819042",
   "metadata": {},
   "outputs": [],
   "source": [
    "print(\"Que-31. Take a number as input and print the sum of its digits.\")\n",
    "print(\"\\n\")\n",
    "\n"
   ]
  },
  {
   "cell_type": "markdown",
   "id": "611bd2b0",
   "metadata": {},
   "source": [
    "Que-32. Ask the user to enter a sentence and count how many vowels it contains."
   ]
  },
  {
   "cell_type": "code",
   "execution_count": null,
   "id": "aaf3260e",
   "metadata": {},
   "outputs": [],
   "source": [
    "print(\"Que-32. Ask the user to enter a sentence and count how many vowels it contains.\")\n",
    "print(\"\\n\")\n",
    "\n"
   ]
  },
  {
   "cell_type": "markdown",
   "id": "6567a4d1",
   "metadata": {},
   "source": [
    "Que-33. Take a number as input and check if it is a prime number."
   ]
  },
  {
   "cell_type": "code",
   "execution_count": null,
   "id": "8e7d0993",
   "metadata": {},
   "outputs": [],
   "source": [
    "print(\"Que-33. Take a number as input and check if it is a prime number.\")\n",
    "print(\"\\n\")\n",
    "\n"
   ]
  },
  {
   "cell_type": "markdown",
   "id": "300f945a",
   "metadata": {},
   "source": [
    "Que-34. Ask the user to enter their marks in 5 subjects and calculate the percentage."
   ]
  },
  {
   "cell_type": "code",
   "execution_count": null,
   "id": "f5942591",
   "metadata": {},
   "outputs": [],
   "source": [
    "print(\"Que-34. Ask the user to enter their marks in 5 subjects and calculate the percentage.\")\n",
    "print(\"\\n\")\n",
    "\n"
   ]
  },
  {
   "cell_type": "markdown",
   "id": "2593d645",
   "metadata": {},
   "source": [
    "Que-35. Take a string input and print the number of uppercase and lowercase letters."
   ]
  },
  {
   "cell_type": "code",
   "execution_count": null,
   "id": "38a59f68",
   "metadata": {},
   "outputs": [],
   "source": [
    "print(\"Que-35. Take a string input and print the number of uppercase and lowercase letters.\")\n",
    "print(\"\\n\")\n",
    "\n"
   ]
  },
  {
   "cell_type": "markdown",
   "id": "7592ef9d",
   "metadata": {},
   "source": [
    "Que-36. Ask the user to enter a number and print its binary, octal, and hexadecimal representation."
   ]
  },
  {
   "cell_type": "code",
   "execution_count": null,
   "id": "ee408234",
   "metadata": {},
   "outputs": [],
   "source": [
    "print(\"Que-36. Ask the user to enter a number and print its binary, octal, and hexadecimal representation.\")\n",
    "print(\"\\n\")\n",
    "\n"
   ]
  },
  {
   "cell_type": "markdown",
   "id": "6bb89fee",
   "metadata": {},
   "source": [
    "Que-37. Ask the user to enter their favorite movie and print: \"Your favorite movie is [movie name]\"."
   ]
  },
  {
   "cell_type": "code",
   "execution_count": null,
   "id": "8a8e7672",
   "metadata": {},
   "outputs": [],
   "source": [
    "print(\"Que-37. Ask the user to enter their favorite movie and print: 'Your favorite movie is [movie name]'.\")\n",
    "print(\"\\n\")\n",
    "\n"
   ]
  },
  {
   "cell_type": "markdown",
   "id": "ed029be3",
   "metadata": {},
   "source": [
    "Que-38. Take the user's name and print it in title case (first letter capitalized)."
   ]
  },
  {
   "cell_type": "code",
   "execution_count": null,
   "id": "89566630",
   "metadata": {},
   "outputs": [],
   "source": [
    "print(\"Que-38. Take the user's name and print it in title case (first letter capitalized).\")\n",
    "print(\"\\n\")\n",
    "\n"
   ]
  },
  {
   "cell_type": "markdown",
   "id": "d536b0c1",
   "metadata": {},
   "source": [
    "Que-39. Ask the user to enter two numbers and print their difference."
   ]
  },
  {
   "cell_type": "code",
   "execution_count": null,
   "id": "eb0d8534",
   "metadata": {},
   "outputs": [],
   "source": [
    "print(\"Que-39. Ask the user to enter two numbers and print their difference.\")\n",
    "print(\"\\n\")\n",
    "\n"
   ]
  },
  {
   "cell_type": "markdown",
   "id": "3bd40c89",
   "metadata": {},
   "source": [
    "Que-40. Take a string input and print it in reverse without using slicing."
   ]
  },
  {
   "cell_type": "code",
   "execution_count": null,
   "id": "60d3c593",
   "metadata": {},
   "outputs": [],
   "source": [
    "print(\"Que-40. Take a string input and print it in reverse without using slicing.\")\n",
    "print(\"\\n\")\n",
    "\n"
   ]
  },
  {
   "cell_type": "markdown",
   "id": "c0cc0624",
   "metadata": {},
   "source": [
    "Que-41. Ask the user to enter a number and print whether it is divisible by 5."
   ]
  },
  {
   "cell_type": "code",
   "execution_count": null,
   "id": "8f02a152",
   "metadata": {},
   "outputs": [],
   "source": [
    "print(\"Que-41. Ask the user to enter a number and print whether it is divisible by 5.\")\n",
    "print(\"\\n\")\n",
    "\n"
   ]
  },
  {
   "cell_type": "markdown",
   "id": "175aec3b",
   "metadata": {},
   "source": [
    "Que-42. Take a sentence as input and print how many times the letter 'a' appears."
   ]
  },
  {
   "cell_type": "code",
   "execution_count": null,
   "id": "d350766a",
   "metadata": {},
   "outputs": [],
   "source": [
    "print(\"Que-42. Take a sentence as input and print how many times the letter 'a' appears.\")\n",
    "print(\"\\n\")\n",
    "\n"
   ]
  },
  {
   "cell_type": "markdown",
   "id": "a6c61cc7",
   "metadata": {},
   "source": [
    "Que-43. Ask the user to enter their monthly salary and calculate their annual salary."
   ]
  },
  {
   "cell_type": "code",
   "execution_count": null,
   "id": "442094c5",
   "metadata": {},
   "outputs": [],
   "source": [
    "print(\"Que-43. Ask the user to enter their monthly salary and calculate their annual salary.\")\n",
    "print(\"\\n\")\n",
    "\n"
   ]
  },
  {
   "cell_type": "markdown",
   "id": "ac556baa",
   "metadata": {},
   "source": [
    "Que-44. Take a number as input and print its square root."
   ]
  },
  {
   "cell_type": "code",
   "execution_count": null,
   "id": "dbe9d8f9",
   "metadata": {},
   "outputs": [],
   "source": [
    "print(\"Que-44. Take a number as input and print its square root.\")\n",
    "print(\"\\n\")\n",
    "\n"
   ]
  },
  {
   "cell_type": "markdown",
   "id": "2d0be7f5",
   "metadata": {},
   "source": [
    "Que-45. Ask the user to enter a string and print whether it contains only digits."
   ]
  },
  {
   "cell_type": "code",
   "execution_count": null,
   "id": "85113134",
   "metadata": {},
   "outputs": [],
   "source": [
    "print(\"Que-45. Ask the user to enter a string and print whether it contains only digits.\")\n",
    "print(\"\\n\")\n",
    "\n"
   ]
  },
  {
   "cell_type": "markdown",
   "id": "1dfb88a3",
   "metadata": {},
   "source": [
    "Que-46. Take a number as input and print the sum of all even numbers from 1 to that number."
   ]
  },
  {
   "cell_type": "code",
   "execution_count": null,
   "id": "93ac514f",
   "metadata": {},
   "outputs": [],
   "source": [
    "print(\"Que-46. Take a number as input and print the sum of all even numbers from 1 to that number.\")\n",
    "print(\"\\n\")\n",
    "\n"
   ]
  },
  {
   "cell_type": "markdown",
   "id": "2a3de127",
   "metadata": {},
   "source": [
    "Que-47. Ask the user to enter a sentence and replace all spaces with hyphens (-)."
   ]
  },
  {
   "cell_type": "code",
   "execution_count": null,
   "id": "93129dd1",
   "metadata": {},
   "outputs": [],
   "source": [
    "print(\"Que-47. Ask the user to enter a sentence and replace all spaces with hyphens (-).\")\n",
    "print(\"\\n\")\n",
    "\n"
   ]
  },
  {
   "cell_type": "markdown",
   "id": "c9e93494",
   "metadata": {},
   "source": [
    "Que-48. Take a number as input and print the multiplication table in reverse order (from 10 to 1)."
   ]
  },
  {
   "cell_type": "code",
   "execution_count": null,
   "id": "783d1746",
   "metadata": {},
   "outputs": [],
   "source": [
    "print(\"Que-48. Take a number as input and print the multiplication table in reverse order (from 10 to 1).\")\n",
    "print(\"\\n\")\n"
   ]
  }
 ],
 "metadata": {
  "kernelspec": {
   "display_name": "Python 3",
   "language": "python",
   "name": "python3"
  },
  "language_info": {
   "codemirror_mode": {
    "name": "ipython",
    "version": 3
   },
   "file_extension": ".py",
   "mimetype": "text/x-python",
   "name": "python",
   "nbconvert_exporter": "python",
   "pygments_lexer": "ipython3",
   "version": "3.13.7"
  }
 },
 "nbformat": 4,
 "nbformat_minor": 5
}
