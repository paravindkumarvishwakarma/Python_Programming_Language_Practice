{
 "cells": [
  {
   "cell_type": "markdown",
   "id": "359637cd",
   "metadata": {},
   "source": [
    "Question Description"
   ]
  },
  {
   "cell_type": "code",
   "execution_count": null,
   "id": "b06f17dc",
   "metadata": {},
   "outputs": [],
   "source": [
    "\"\"\"Comments, Escape Sequence and Print Staement\"\"\"\n",
    "\n"
   ]
  },
  {
   "cell_type": "markdown",
   "id": "3e1908ab",
   "metadata": {},
   "source": [
    "Que-49. Add a single-line comment at the top of your script describing what the program does."
   ]
  },
  {
   "cell_type": "code",
   "execution_count": null,
   "id": "1c41f263",
   "metadata": {},
   "outputs": [],
   "source": [
    "print(\"Que-49. Add a single-line comment at the top of your script describing what the program does.\")\n",
    "print(\"\\n\")\n",
    "\n"
   ]
  },
  {
   "cell_type": "markdown",
   "id": "797d8521",
   "metadata": {},
   "source": [
    "Que-50. Write two print statements and disable one of them using a single-line comment."
   ]
  },
  {
   "cell_type": "code",
   "execution_count": null,
   "id": "4cc90e1d",
   "metadata": {},
   "outputs": [],
   "source": [
    "print(\"Que-50. Write two print statements and disable one of them using a single-line comment.\")\n",
    "print(\"\\n\")\n",
    "\n"
   ]
  },
  {
   "cell_type": "markdown",
   "id": "734896b4",
   "metadata": {},
   "source": [
    "Que-51. Add an inline single-line comment at the end of a print statement explaining what it prints."
   ]
  },
  {
   "cell_type": "code",
   "execution_count": null,
   "id": "74be06a5",
   "metadata": {},
   "outputs": [],
   "source": [
    "print(\"Que-51. Add an inline single-line comment at the end of a print statement explaining what it prints.\")\n",
    "print(\"\\n\")\n",
    "\n"
   ]
  },
  {
   "cell_type": "markdown",
   "id": "e24a037a",
   "metadata": {},
   "source": [
    "Que-52. Create a multi-line comment (using triple quotes) that explains the purpose of the next 3 lines of code."
   ]
  },
  {
   "cell_type": "code",
   "execution_count": null,
   "id": "9447cfdd",
   "metadata": {},
   "outputs": [],
   "source": [
    "print(\"Que-52. Create a multi-line comment (using triple quotes) that explains the purpose of the next 3 lines of code.\")\n",
    "print(\"\\n\")\n",
    "\n"
   ]
  },
  {
   "cell_type": "markdown",
   "id": "4f8e7af8",
   "metadata": {},
   "source": [
    "Que-53. Write a multi-line comment that lists your name, date, and a short program description."
   ]
  },
  {
   "cell_type": "code",
   "execution_count": null,
   "id": "c56d7a80",
   "metadata": {},
   "outputs": [],
   "source": [
    "print(\"Que-53. Write a multi-line comment that lists your name, date, and a short program description.\")\n",
    "print(\"\\n\")\n",
    "\n"
   ]
  },
  {
   "cell_type": "markdown",
   "id": "0475ab56",
   "metadata": {},
   "source": [
    "Que-54. Add a docstring at the top of a function to describe what the function should do (use triple quotes)."
   ]
  },
  {
   "cell_type": "code",
   "execution_count": null,
   "id": "50baacd5",
   "metadata": {},
   "outputs": [],
   "source": [
    "print(\"Que-54. Add a docstring at the top of a function to describe what the function should do (use triple quotes).\")\n",
    "print(\"\\n\")\n",
    "\n"
   ]
  },
  {
   "cell_type": "markdown",
   "id": "a9e7c912",
   "metadata": {},
   "source": [
    "Que-55. Use the newline escape sequence \\\\n to print a two-line message in a single print call."
   ]
  },
  {
   "cell_type": "code",
   "execution_count": null,
   "id": "5feec41f",
   "metadata": {},
   "outputs": [],
   "source": [
    "print(\"Que-55. Use the newline escape sequence \\\\n to print a two-line message in a single print call.\")\n",
    "print(\"\\n\")\n",
    "\n"
   ]
  },
  {
   "cell_type": "markdown",
   "id": "490494c3",
   "metadata": {},
   "source": [
    "Que-56. Use the tab escape sequence \\\\t to align three words in a single line."
   ]
  },
  {
   "cell_type": "code",
   "execution_count": null,
   "id": "e8d2a74f",
   "metadata": {},
   "outputs": [],
   "source": [
    "print(\"Que-56. Use the tab escape sequence \\\\t to align three words in a single line.\")\n",
    "print(\"\\n\")\n",
    "\n"
   ]
  },
  {
   "cell_type": "markdown",
   "id": "e48ee530",
   "metadata": {},
   "source": [
    "Que-57. Print a string that contains both double quotes and single quotes using the correct escape sequences."
   ]
  },
  {
   "cell_type": "code",
   "execution_count": null,
   "id": "69543c09",
   "metadata": {},
   "outputs": [],
   "source": [
    "print(\"Que-57. Print a string that contains both double quotes and single quotes using the correct escape sequences.\")\n",
    "print(\"\\n\")\n",
    "\n"
   ]
  },
  {
   "cell_type": "markdown",
   "id": "8f844601",
   "metadata": {},
   "source": [
    "Que-58. Print a Windows file path (e.g., C:\\\\Users\\\\Name\\\\Documents) showing backslashes correctly."
   ]
  },
  {
   "cell_type": "code",
   "execution_count": null,
   "id": "6afc8ed7",
   "metadata": {},
   "outputs": [],
   "source": [
    "print(\"Que-58. Print a Windows file path (e.g., C:\\\\\\\\Users\\\\\\\\Name\\\\\\\\Documents) showing backslashes correctly.\")\n",
    "print(\"\\n\")\n",
    "\n"
   ]
  },
  {
   "cell_type": "markdown",
   "id": "192ba3f0",
   "metadata": {},
   "source": [
    "Que-59. Print a string with a backspace escape (\\\\b) to demonstrate how it removes the previous character."
   ]
  },
  {
   "cell_type": "code",
   "execution_count": null,
   "id": "8096c3f8",
   "metadata": {},
   "outputs": [],
   "source": [
    "print(\"Que-59. Print a string with a backspace escape (\\\\b) to demonstrate how it removes the previous character.\")\n",
    "print(\"\\n\")\n",
    "\n"
   ]
  },
  {
   "cell_type": "markdown",
   "id": "d91b7ee9",
   "metadata": {},
   "source": [
    "Que-60. Use a raw string (r\"...\") to print a pattern containing many backslashes without escaping them."
   ]
  },
  {
   "cell_type": "code",
   "execution_count": null,
   "id": "8a4d9484",
   "metadata": {},
   "outputs": [],
   "source": [
    "print(\"Que-60. Use a raw string (r\\\"...\\\") to print a pattern containing many backslashes without escaping them.\")\n",
    "print(\"\\n\")\n",
    "\n"
   ]
  },
  {
   "cell_type": "markdown",
   "id": "3557026e",
   "metadata": {},
   "source": [
    "Que-61. Print text that includes a Unicode character (e.g., the Rupee symbol \\\\u20B9) using an escape sequence."
   ]
  },
  {
   "cell_type": "code",
   "execution_count": null,
   "id": "288673f0",
   "metadata": {},
   "outputs": [],
   "source": [
    "print(\"Que-61. Print text that includes a Unicode character (e.g., the Rupee symbol \\\\u20B9) using an escape sequence.\")\n",
    "print(\"\\n\")\n",
    "\n"
   ]
  },
  {
   "cell_type": "markdown",
   "id": "610aedf4",
   "metadata": {},
   "source": [
    "Que-62. Use print with multiple arguments to display three values separated by the default separator."
   ]
  },
  {
   "cell_type": "code",
   "execution_count": null,
   "id": "ca4c530d",
   "metadata": {},
   "outputs": [],
   "source": [
    "print(\"Que-62. Use print with multiple arguments to display three values separated by the default separator.\")\n",
    "print(\"\\n\")\n",
    "\n"
   ]
  },
  {
   "cell_type": "markdown",
   "id": "176f3f96",
   "metadata": {},
   "source": [
    "Que-63. Use print with the sep parameter to separate values by a hyphen (-) instead of the default space."
   ]
  },
  {
   "cell_type": "code",
   "execution_count": null,
   "id": "a6e4afc1",
   "metadata": {},
   "outputs": [],
   "source": [
    "print(\"Que-63. Use print with the sep parameter to separate values by a hyphen (-) instead of the default space.\")\n",
    "print(\"\\n\")\n",
    "\n"
   ]
  },
  {
   "cell_type": "markdown",
   "id": "7aa357d0",
   "metadata": {},
   "source": [
    "Que-64. Use print with the sep parameter to join values with ' | ' as a custom separator."
   ]
  },
  {
   "cell_type": "code",
   "execution_count": null,
   "id": "6b6eabfe",
   "metadata": {},
   "outputs": [],
   "source": [
    "print(\"Que-64. Use print with the sep parameter to join values with ' | ' as a custom separator.\")\n",
    "print(\"\\n\")\n",
    "\n"
   ]
  },
  {
   "cell_type": "markdown",
   "id": "7407f3ab",
   "metadata": {},
   "source": [
    "Que-65. Use the end parameter to print two messages on the same line separated by a space."
   ]
  },
  {
   "cell_type": "code",
   "execution_count": null,
   "id": "a4f530a1",
   "metadata": {},
   "outputs": [],
   "source": [
    "print(\"Que-65. Use the end parameter to print two messages on the same line separated by a space.\")\n",
    "print(\"\\n\")\n",
    "\n"
   ]
  },
  {
   "cell_type": "markdown",
   "id": "4d20ddbd",
   "metadata": {},
   "source": [
    "Que-66. Print the numbers 1 to 5 on the same line, separated by a single space, using end=\\\" \\\" in a loop."
   ]
  },
  {
   "cell_type": "code",
   "execution_count": null,
   "id": "1e61634e",
   "metadata": {},
   "outputs": [],
   "source": [
    "print(\"Que-66. Print the numbers 1 to 5 on the same line, separated by a single space, using end=\\\\\\\" \\\\\\\" in a loop.\")\n",
    "print(\"\\n\")\n",
    "\n"
   ]
  },
  {
   "cell_type": "markdown",
   "id": "10425887",
   "metadata": {},
   "source": [
    "Que-67. Use end=\\\"\\\\t\\\" to print items in a row separated by tabs."
   ]
  },
  {
   "cell_type": "code",
   "execution_count": null,
   "id": "5c696add",
   "metadata": {},
   "outputs": [],
   "source": [
    "print(\"Que-67. Use end=\\\\\\\"\\\\t\\\\\\\" to print items in a row separated by tabs.\")\n",
    "print(\"\\n\")\n",
    "\n"
   ]
  },
  {
   "cell_type": "markdown",
   "id": "852794b7",
   "metadata": {},
   "source": [
    "Que-68. Combine sep and end: print A, B, C with sep=\\\",\\\" and end=\\\";\\\" and then print D on the same line."
   ]
  },
  {
   "cell_type": "code",
   "execution_count": null,
   "id": "5bbe868b",
   "metadata": {},
   "outputs": [],
   "source": [
    "print(\"Que-68. Combine sep and end: print A, B, C with sep=\\\\\\\",\\\\\\\" and end=\\\\\\\";\\\\\\\" and then print D on the same line.\")\n",
    "print(\"\\n\")\n",
    "\n"
   ]
  },
  {
   "cell_type": "markdown",
   "id": "3db72a7a",
   "metadata": {},
   "source": [
    "Que-69. Demonstrate print with f-strings to display a formatted sentence using two variables."
   ]
  },
  {
   "cell_type": "code",
   "execution_count": null,
   "id": "fc765b87",
   "metadata": {},
   "outputs": [],
   "source": [
    "print(\"Que-69. Demonstrate print with f-strings to display a formatted sentence using two variables.\")\n",
    "print(\"\\n\")\n",
    "\n"
   ]
  },
  {
   "cell_type": "markdown",
   "id": "cf3c8176",
   "metadata": {},
   "source": [
    "Que-70. Compare printing with commas vs. string concatenation by preparing two print statements."
   ]
  },
  {
   "cell_type": "code",
   "execution_count": null,
   "id": "dd68e661",
   "metadata": {},
   "outputs": [],
   "source": [
    "print(\"Que-70. Compare printing with commas vs. string concatenation by preparing two print statements.\")\n",
    "print(\"\\n\")\n",
    "\n"
   ]
  },
  {
   "cell_type": "markdown",
   "id": "d0b1a77a",
   "metadata": {},
   "source": [
    "Que-71. Use print with the flush=True parameter to immediately display output during a loop."
   ]
  },
  {
   "cell_type": "code",
   "execution_count": null,
   "id": "2684a752",
   "metadata": {},
   "outputs": [],
   "source": [
    "print(\"Que-71. Use print with the flush=True parameter to immediately display output during a loop.\")\n",
    "print(\"\\n\")\n",
    "\n"
   ]
  },
  {
   "cell_type": "markdown",
   "id": "e086f163",
   "metadata": {},
   "source": [
    "Que-72. Print a carriage return example (\\\\r) to overwrite part of the same line in the terminal."
   ]
  },
  {
   "cell_type": "code",
   "execution_count": null,
   "id": "9775b8ad",
   "metadata": {},
   "outputs": [],
   "source": [
    "print(\"Que-72. Print a carriage return example (\\\\r) to overwrite part of the same line in the terminal.\")\n",
    "print(\"\\n\")\n",
    "\n"
   ]
  },
  {
   "cell_type": "markdown",
   "id": "59016471",
   "metadata": {},
   "source": [
    "Que-73. Write a single-line comment explaining what the next print statement does."
   ]
  },
  {
   "cell_type": "code",
   "execution_count": null,
   "id": "a28f0206",
   "metadata": {},
   "outputs": [],
   "source": [
    "print(\"Que-73. Write a single-line comment explaining what the next print statement does.\")\n",
    "print(\"\\n\")\n",
    "\n"
   ]
  },
  {
   "cell_type": "markdown",
   "id": "2a40cf78",
   "metadata": {},
   "source": [
    "Que-74. Add a single-line comment to disable a print statement without deleting it."
   ]
  },
  {
   "cell_type": "code",
   "execution_count": null,
   "id": "2a0bd5ca",
   "metadata": {},
   "outputs": [],
   "source": [
    "print(\"Que-74. Add a single-line comment to disable a print statement without deleting it.\")\n",
    "print(\"\\n\")\n",
    "\n"
   ]
  },
  {
   "cell_type": "markdown",
   "id": "cb5b63f7",
   "metadata": {},
   "source": [
    "Que-75. Create a multi-line comment that explains the purpose of a small program."
   ]
  },
  {
   "cell_type": "code",
   "execution_count": null,
   "id": "1791e2cb",
   "metadata": {},
   "outputs": [],
   "source": [
    "print(\"Que-75. Create a multi-line comment that explains the purpose of a small program.\")\n",
    "print(\"\\n\")\n",
    "\n"
   ]
  },
  {
   "cell_type": "markdown",
   "id": "fc23394f",
   "metadata": {},
   "source": [
    "Que-76. Use a multi-line comment to describe three variables you will declare next."
   ]
  },
  {
   "cell_type": "code",
   "execution_count": null,
   "id": "0422242c",
   "metadata": {},
   "outputs": [],
   "source": [
    "print(\"Que-76. Use a multi-line comment to describe three variables you will declare next.\")\n",
    "print(\"\\n\")\n",
    "\n"
   ]
  },
  {
   "cell_type": "markdown",
   "id": "4ddcbe06",
   "metadata": {},
   "source": [
    "Que-77. Print a message that includes a newline (\\n) and a tab (\\t) in the same string."
   ]
  },
  {
   "cell_type": "code",
   "execution_count": null,
   "id": "47d6c67a",
   "metadata": {},
   "outputs": [],
   "source": [
    "print(\"Que-77. Print a message that includes a newline (\\\\n) and a tab (\\\\t) in the same string.\")\n",
    "print(\"\\n\")\n",
    "\n"
   ]
  },
  {
   "cell_type": "markdown",
   "id": "2d188b72",
   "metadata": {},
   "source": [
    "Que-78. Print a string that contains both single and double quotes using escape sequences."
   ]
  },
  {
   "cell_type": "code",
   "execution_count": null,
   "id": "eec006ac",
   "metadata": {},
   "outputs": [],
   "source": [
    "print(\"Que-78. Print a string that contains both single and double quotes using escape sequences.\")\n",
    "print(\"\\n\")\n",
    "\n"
   ]
  },
  {
   "cell_type": "markdown",
   "id": "1909a562",
   "metadata": {},
   "source": [
    "Que-79. Print a backslash character in a string using escape sequences."
   ]
  },
  {
   "cell_type": "code",
   "execution_count": null,
   "id": "d1309571",
   "metadata": {},
   "outputs": [],
   "source": [
    "print(\"Que-79. Print a backslash character in a string using escape sequences.\")\n",
    "print(\"\\n\")\n",
    "\n"
   ]
  },
  {
   "cell_type": "markdown",
   "id": "ffc81f86",
   "metadata": {},
   "source": [
    "Que-80. Print a string that uses the carriage return (\\r) to overwrite part of the text."
   ]
  },
  {
   "cell_type": "code",
   "execution_count": null,
   "id": "78046154",
   "metadata": {},
   "outputs": [],
   "source": [
    "print(\"Que-80. Print a string that uses the carriage return (\\\\r) to overwrite part of the text.\")\n",
    "print(\"\\n\")\n",
    "\n"
   ]
  },
  {
   "cell_type": "markdown",
   "id": "7ad0b46a",
   "metadata": {},
   "source": [
    "Que-81. Use print() with multiple arguments and check the default separator."
   ]
  },
  {
   "cell_type": "code",
   "execution_count": null,
   "id": "edc46737",
   "metadata": {},
   "outputs": [],
   "source": [
    "print(\"Que-81. Use print() with multiple arguments and check the default separator.\")\n",
    "print(\"\\n\")\n",
    "\n"
   ]
  },
  {
   "cell_type": "markdown",
   "id": "8071d16c",
   "metadata": {},
   "source": [
    "Que-82. Use print() with the sep parameter to separate words with a colon (:)."
   ]
  },
  {
   "cell_type": "code",
   "execution_count": null,
   "id": "c13647d8",
   "metadata": {},
   "outputs": [],
   "source": [
    "print(\"Que-82. Use print() with the sep parameter to separate words with a colon (:).\")\n",
    "print(\"\\n\")\n",
    "\n"
   ]
  },
  {
   "cell_type": "markdown",
   "id": "39376fef",
   "metadata": {},
   "source": [
    "Que-83. Use print() with the end parameter to print two statements on the same line."
   ]
  },
  {
   "cell_type": "code",
   "execution_count": null,
   "id": "ccfba72b",
   "metadata": {},
   "outputs": [],
   "source": [
    "print(\"Que-83. Use print() with the end parameter to print two statements on the same line.\")\n",
    "print(\"\\n\")\n",
    "\n"
   ]
  },
  {
   "cell_type": "markdown",
   "id": "506829db",
   "metadata": {},
   "source": [
    "Que-84. Print numbers 1 to 10 on the same line using a loop and end=\" \"."
   ]
  },
  {
   "cell_type": "code",
   "execution_count": null,
   "id": "730ad06b",
   "metadata": {},
   "outputs": [],
   "source": [
    "print(\"Que-84. Print numbers 1 to 10 on the same line using a loop and end=\\\" \\\".\")\n",
    "print(\"\\n\")\n",
    "\n"
   ]
  },
  {
   "cell_type": "markdown",
   "id": "d33ff3bc",
   "metadata": {},
   "source": [
    "Que-85. Combine sep and end in a single print statement to format output."
   ]
  },
  {
   "cell_type": "code",
   "execution_count": null,
   "id": "eb02ed89",
   "metadata": {},
   "outputs": [],
   "source": [
    "print(\"Que-85. Combine sep and end in a single print statement to format output.\")\n",
    "print(\"\\n\")\n",
    "\n"
   ]
  },
  {
   "cell_type": "markdown",
   "id": "9208191c",
   "metadata": {},
   "source": [
    "Que-86. Print a formatted string using f-strings with two variables."
   ]
  },
  {
   "cell_type": "code",
   "execution_count": null,
   "id": "41e6fbe9",
   "metadata": {},
   "outputs": [],
   "source": [
    "print(\"Que-86. Print a formatted string using f-strings with two variables.\")\n",
    "print(\"\\n\")\n",
    "\n"
   ]
  },
  {
   "cell_type": "markdown",
   "id": "47581dc3",
   "metadata": {},
   "source": [
    "Que-87. Print a string with a Unicode emoji using its escape code."
   ]
  },
  {
   "cell_type": "code",
   "execution_count": null,
   "id": "daf37b48",
   "metadata": {},
   "outputs": [],
   "source": [
    "print(\"Que-87. Print a string with a Unicode emoji using its escape code.\")\n",
    "print(\"\\n\")\n",
    "\n"
   ]
  },
  {
   "cell_type": "markdown",
   "id": "77293bf6",
   "metadata": {},
   "source": [
    "Que-88. Use print() to display a pattern using escape sequences (e.g., stars in multiple lines)."
   ]
  },
  {
   "cell_type": "code",
   "execution_count": null,
   "id": "e744e989",
   "metadata": {},
   "outputs": [],
   "source": [
    "print(\"Que-88. Use print() to display a pattern using escape sequences (e.g., stars in multiple lines).\")\n",
    "print(\"\\n\")\n",
    "\n"
   ]
  },
  {
   "cell_type": "markdown",
   "id": "00d367ff",
   "metadata": {},
   "source": [
    "Que-89. Demonstrate the difference between print(\"A\",\"B\") and print(\"A\"+\"B\")."
   ]
  },
  {
   "cell_type": "code",
   "execution_count": null,
   "id": "4f871500",
   "metadata": {},
   "outputs": [],
   "source": [
    "print(\"Que-89. Demonstrate the difference between print(\\\"A\\\",\\\"B\\\") and print(\\\"A\\\"+\\\"B\\\").\")\n",
    "print(\"\\n\")\n",
    "\n"
   ]
  },
  {
   "cell_type": "markdown",
   "id": "7cf76044",
   "metadata": {},
   "source": [
    "Que-90. Use print() with flush=True to show immediate output in a loop."
   ]
  },
  {
   "cell_type": "code",
   "execution_count": null,
   "id": "b9e62b89",
   "metadata": {},
   "outputs": [],
   "source": [
    "print(\"Que-90. Use print() with flush=True to show immediate output in a loop.\")\n",
    "print(\"\\n\")\n"
   ]
  }
 ],
 "metadata": {},
 "nbformat": 4,
 "nbformat_minor": 5
}
