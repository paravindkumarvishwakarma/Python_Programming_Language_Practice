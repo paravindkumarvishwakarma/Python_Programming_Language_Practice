{
 "cells": [
  {
   "cell_type": "markdown",
   "id": "32fe637b",
   "metadata": {},
   "source": [
    "Question Description"
   ]
  },
  {
   "cell_type": "code",
   "execution_count": null,
   "id": "57159a70",
   "metadata": {},
   "outputs": [],
   "source": [
    "\"\"\"\n",
    "Operators in Pythons\n",
    "a) Arithmetic Operators\n",
    "b) Comparison Operators\n",
    "c) Conditional Operators\n",
    "d) Logical Operators (And, Or and Not)\n",
    "e) Assignment Operators\n",
    "f) Membership Operators\n",
    "g) Identity Operators\n",
    "\"\"\"\n"
   ]
  },
  {
   "cell_type": "markdown",
   "id": "1b60e44d",
   "metadata": {},
   "source": [
    "Que-91. Using arithmetic operators, ask the user for two integers and describe what +, -, *, /, //, %, ** would compute for them."
   ]
  },
  {
   "cell_type": "code",
   "execution_count": null,
   "id": "b8083b89",
   "metadata": {},
   "outputs": [],
   "source": [
    "print(\"Que-91. Using arithmetic operators, ask the user for two integers and describe what +, -, *, /, //, %, ** would compute for them.\")\n",
    "print(\"\\n\")\n",
    "\n"
   ]
  },
  {
   "cell_type": "markdown",
   "id": "27cd5a1d",
   "metadata": {},
   "source": [
    "Que-92. Ask for two numbers and state what the sum and difference would be using + and - operators."
   ]
  },
  {
   "cell_type": "code",
   "execution_count": null,
   "id": "e17a0c01",
   "metadata": {},
   "outputs": [],
   "source": [
    "print(\"Que-92. Ask for two numbers and state what the sum and difference would be using + and - operators.\")\n",
    "print(\"\\n\")\n",
    "\n"
   ]
  },
  {
   "cell_type": "markdown",
   "id": "77258d4a",
   "metadata": {},
   "source": [
    "Que-93. Ask for two numbers and explain the result of standard division (/) vs floor division (//)."
   ]
  },
  {
   "cell_type": "code",
   "execution_count": null,
   "id": "a51cb5a0",
   "metadata": {},
   "outputs": [],
   "source": [
    "print(\"Que-93. Ask for two numbers and explain the result of standard division (/) vs floor division (//).\")\n",
    "print(\"\\n\")\n",
    "\n"
   ]
  },
  {
   "cell_type": "markdown",
   "id": "b1471a83",
   "metadata": {},
   "source": [
    "Que-94. Ask for a base and exponent, and describe what exponentiation (**) would produce."
   ]
  },
  {
   "cell_type": "code",
   "execution_count": null,
   "id": "ca3ee377",
   "metadata": {},
   "outputs": [],
   "source": [
    "print(\"Que-94. Ask for a base and exponent, and describe what exponentiation (**) would produce.\")\n",
    "print(\"\\n\")\n",
    "\n"
   ]
  },
  {
   "cell_type": "markdown",
   "id": "4d7e41eb",
   "metadata": {},
   "source": [
    "Que-95. Ask for two integers and explain the meaning of the modulo (%) result."
   ]
  },
  {
   "cell_type": "code",
   "execution_count": null,
   "id": "359745f6",
   "metadata": {},
   "outputs": [],
   "source": [
    "print(\"Que-95. Ask for two integers and explain the meaning of the modulo (%) result.\")\n",
    "print(\"\\n\")\n",
    "\n"
   ]
  },
  {
   "cell_type": "markdown",
   "id": "322f0fc4",
   "metadata": {},
   "source": [
    "Que-96. Ask the user for two numbers a and b; state which comparison operators (>, <, >=, <=, ==, !=) would evaluate to True."
   ]
  },
  {
   "cell_type": "code",
   "execution_count": null,
   "id": "b5013910",
   "metadata": {},
   "outputs": [],
   "source": [
    "print(\"Que-96. Ask the user for two numbers a and b; state which comparison operators (>, <, >=, <=, ==, !=) would evaluate to True.\")\n",
    "print(\"\\n\")\n",
    "\n"
   ]
  },
  {
   "cell_type": "markdown",
   "id": "50c9e547",
   "metadata": {},
   "source": [
    "Que-97. With three numbers x, y, z: form a chained comparison (x < y < z) and describe when it would be True."
   ]
  },
  {
   "cell_type": "code",
   "execution_count": null,
   "id": "967e4734",
   "metadata": {},
   "outputs": [],
   "source": [
    "print(\"Que-97. With three numbers x, y, z: form a chained comparison (x < y < z) and describe when it would be True.\")\n",
    "print(\"\\n\")\n",
    "\n"
   ]
  },
  {
   "cell_type": "markdown",
   "id": "4f847643",
   "metadata": {},
   "source": [
    "Que-98. Ask the user for a number and describe how to check if it is equal to 0 or not equal to 0 using == and !=."
   ]
  },
  {
   "cell_type": "code",
   "execution_count": null,
   "id": "cb43bcdb",
   "metadata": {},
   "outputs": [],
   "source": [
    "print(\"Que-98. Ask the user for a number and describe how to check if it is equal to 0 or not equal to 0 using == and !=.\")\n",
    "print(\"\\n\")\n",
    "\n"
   ]
  },
  {
   "cell_type": "markdown",
   "id": "7790f8f8",
   "metadata": {},
   "source": [
    "Que-99. Ask for two strings and describe how to compare them lexicographically using < and >."
   ]
  },
  {
   "cell_type": "code",
   "execution_count": null,
   "id": "acfdac97",
   "metadata": {},
   "outputs": [],
   "source": [
    "print(\"Que-99. Ask for two strings and describe how to compare them lexicographically using < and >.\")\n",
    "print(\"\\n\")\n",
    "\n"
   ]
  },
  {
   "cell_type": "markdown",
   "id": "47acb137",
   "metadata": {},
   "source": [
    "Que-100. Demonstrate how floating-point comparisons might be tricky and what == would mean on two decimals."
   ]
  },
  {
   "cell_type": "code",
   "execution_count": null,
   "id": "e680bfea",
   "metadata": {},
   "outputs": [],
   "source": [
    "print(\"Que-100. Demonstrate how floating-point comparisons might be tricky and what == would mean on two decimals.\")\n",
    "print(\"\\n\")\n",
    "\n"
   ]
  },
  {
   "cell_type": "markdown",
   "id": "055128a2",
   "metadata": {},
   "source": [
    "Que-101. Using the conditional (ternary) operator, describe how to pick the larger of two inputs in a single expression."
   ]
  },
  {
   "cell_type": "code",
   "execution_count": null,
   "id": "a12e6a37",
   "metadata": {},
   "outputs": [],
   "source": [
    "print(\"Que-101. Using the conditional (ternary) operator, describe how to pick the larger of two inputs in a single expression.\")\n",
    "print(\"\\n\")\n",
    "\n"
   ]
  },
  {
   "cell_type": "markdown",
   "id": "fa9f0985",
   "metadata": {},
   "source": [
    "Que-102. Using the conditional expression, describe how to return 'Even' if a number is even else 'Odd'."
   ]
  },
  {
   "cell_type": "code",
   "execution_count": null,
   "id": "6bba8cc9",
   "metadata": {},
   "outputs": [],
   "source": [
    "print(\"Que-102. Using the conditional expression, describe how to return 'Even' if a number is even else 'Odd'.\")\n",
    "print(\"\\n\")\n",
    "\n"
   ]
  },
  {
   "cell_type": "markdown",
   "id": "60d92bb2",
   "metadata": {},
   "source": [
    "Que-103. Combine a comparison and a conditional expression to select 'Pass' or 'Fail' given a score and a cutoff."
   ]
  },
  {
   "cell_type": "code",
   "execution_count": null,
   "id": "5c98c9f5",
   "metadata": {},
   "outputs": [],
   "source": [
    "print(\"Que-103. Combine a comparison and a conditional expression to select 'Pass' or 'Fail' given a score and a cutoff.\")\n",
    "print(\"\\n\")\n",
    "\n"
   ]
  },
  {
   "cell_type": "markdown",
   "id": "86d24618",
   "metadata": {},
   "source": [
    "Que-104. Create a nested conditional expression to classify a number as negative, zero, or positive."
   ]
  },
  {
   "cell_type": "code",
   "execution_count": null,
   "id": "3c0e762f",
   "metadata": {},
   "outputs": [],
   "source": [
    "print(\"Que-104. Create a nested conditional expression to classify a number as negative, zero, or positive.\")\n",
    "print(\"\\n\")\n",
    "\n"
   ]
  },
  {
   "cell_type": "markdown",
   "id": "f565a762",
   "metadata": {},
   "source": [
    "Que-105. Use logical operators and/or/not: ask for two booleans and state the results of (a and b), (a or b), (not a)."
   ]
  },
  {
   "cell_type": "code",
   "execution_count": null,
   "id": "aca8f377",
   "metadata": {},
   "outputs": [],
   "source": [
    "print(\"Que-105. Use logical operators and/or/not: ask for two booleans and state the results of (a and b), (a or b), (not a).\")\n",
    "print(\"\\n\")\n",
    "\n"
   ]
  },
  {
   "cell_type": "markdown",
   "id": "1187fe88",
   "metadata": {},
   "source": [
    "Que-106. Demonstrate short-circuit behavior: explain what happens when evaluating (False and expr) and (True or expr)."
   ]
  },
  {
   "cell_type": "code",
   "execution_count": null,
   "id": "95dcbe01",
   "metadata": {},
   "outputs": [],
   "source": [
    "print(\"Que-106. Demonstrate short-circuit behavior: explain what happens when evaluating (False and expr) and (True or expr).\")\n",
    "print(\"\\n\")\n",
    "\n"
   ]
  },
  {
   "cell_type": "markdown",
   "id": "5240560a",
   "metadata": {},
   "source": [
    "Que-107. Combine comparisons with logical operators: check if a value is within the range [low, high] using and."
   ]
  },
  {
   "cell_type": "code",
   "execution_count": null,
   "id": "1361b4b1",
   "metadata": {},
   "outputs": [],
   "source": [
    "print(\"Que-107. Combine comparisons with logical operators: check if a value is within the range [low, high] using and.\")\n",
    "print(\"\\n\")\n",
    "\n"
   ]
  },
  {
   "cell_type": "markdown",
   "id": "6d71d158",
   "metadata": {},
   "source": [
    "Que-108. Use or to provide a default: if a user enters an empty string, fall back to a default name (conceptually)."
   ]
  },
  {
   "cell_type": "code",
   "execution_count": null,
   "id": "2124af58",
   "metadata": {},
   "outputs": [],
   "source": [
    "print(\"Que-108. Use or to provide a default: if a user enters an empty string, fall back to a default name (conceptually).\")\n",
    "print(\"\\n\")\n",
    "\n"
   ]
  },
  {
   "cell_type": "markdown",
   "id": "6edcb92e",
   "metadata": {},
   "source": [
    "Que-109. Ask for a number and describe how not can invert the result of a comparison (e.g., not (x > 10))."
   ]
  },
  {
   "cell_type": "code",
   "execution_count": null,
   "id": "1c788677",
   "metadata": {},
   "outputs": [],
   "source": [
    "print(\"Que-109. Ask for a number and describe how not can invert the result of a comparison (e.g., not (x > 10)).\")\n",
    "print(\"\\n\")\n",
    "\n"
   ]
  },
  {
   "cell_type": "markdown",
   "id": "bd2e8078",
   "metadata": {},
   "source": [
    "Que-110. Demonstrate assignment operators: start with x, then conceptually apply +=, -=, *=, /= step by step."
   ]
  },
  {
   "cell_type": "code",
   "execution_count": null,
   "id": "72b8e8b5",
   "metadata": {},
   "outputs": [],
   "source": [
    "print(\"Que-110. Demonstrate assignment operators: start with x, then conceptually apply +=, -=, *=, /= step by step.\")\n",
    "print(\"\\n\")\n",
    "\n"
   ]
  },
  {
   "cell_type": "markdown",
   "id": "faaa485b",
   "metadata": {},
   "source": [
    "Que-111. Show the effect of //= and %= on an integer variable with examples."
   ]
  },
  {
   "cell_type": "code",
   "execution_count": null,
   "id": "acaf2a8d",
   "metadata": {},
   "outputs": [],
   "source": [
    "print(\"Que-111. Show the effect of //= and %= on an integer variable with examples.\")\n",
    "print(\"\\n\")\n",
    "\n"
   ]
  },
  {
   "cell_type": "markdown",
   "id": "7d1d16d3",
   "metadata": {},
   "source": [
    "Que-112. Demonstrate **= by repeatedly squaring a number and describing the result after each step."
   ]
  },
  {
   "cell_type": "code",
   "execution_count": null,
   "id": "443c201a",
   "metadata": {},
   "outputs": [],
   "source": [
    "print(\"Que-112. Demonstrate **= by repeatedly squaring a number and describing the result after each step.\")\n",
    "print(\"\\n\")\n",
    "\n"
   ]
  },
  {
   "cell_type": "markdown",
   "id": "4e97623e",
   "metadata": {},
   "source": [
    "Que-113. Explain the difference between = (assignment) and == (equality comparison) with a small scenario."
   ]
  },
  {
   "cell_type": "code",
   "execution_count": null,
   "id": "b0c26d3c",
   "metadata": {},
   "outputs": [],
   "source": [
    "print(\"Que-113. Explain the difference between = (assignment) and == (equality comparison) with a small scenario.\")\n",
    "print(\"\\n\")\n",
    "\n"
   ]
  },
  {
   "cell_type": "markdown",
   "id": "02856611",
   "metadata": {},
   "source": [
    "Que-114. Membership operators: ask for an element and a list, and describe how to check if the element is in the list using in."
   ]
  },
  {
   "cell_type": "code",
   "execution_count": null,
   "id": "3c60d0ca",
   "metadata": {},
   "outputs": [],
   "source": [
    "print(\"Que-114. Membership operators: ask for an element and a list, and describe how to check if the element is in the list using in.\")\n",
    "print(\"\\n\")\n",
    "\n"
   ]
  },
  {
   "cell_type": "markdown",
   "id": "f46860bb",
   "metadata": {},
   "source": [
    "Que-115. Use not in to check that a word is not present in a given sentence (concept only)."
   ]
  },
  {
   "cell_type": "code",
   "execution_count": null,
   "id": "6f70e955",
   "metadata": {},
   "outputs": [],
   "source": [
    "print(\"Que-115. Use not in to check that a word is not present in a given sentence (concept only).\")\n",
    "print(\"\\n\")\n",
    "\n"
   ]
  },
  {
   "cell_type": "markdown",
   "id": "7bedfeb9",
   "metadata": {},
   "source": [
    "Que-116. Show how membership behaves differently for strings vs lists (character in string vs item in list)."
   ]
  },
  {
   "cell_type": "code",
   "execution_count": null,
   "id": "b8a8df06",
   "metadata": {},
   "outputs": [],
   "source": [
    "print(\"Que-116. Show how membership behaves differently for strings vs lists (character in string vs item in list).\")\n",
    "print(\"\\n\")\n",
    "\n"
   ]
  },
  {
   "cell_type": "markdown",
   "id": "0d86016d",
   "metadata": {},
   "source": [
    "Que-117. Membership in dictionaries: describe checking membership in keys vs values."
   ]
  },
  {
   "cell_type": "code",
   "execution_count": null,
   "id": "c66e2fe9",
   "metadata": {},
   "outputs": [],
   "source": [
    "print(\"Que-117. Membership in dictionaries: describe checking membership in keys vs values.\")\n",
    "print(\"\\n\")\n",
    "\n"
   ]
  },
  {
   "cell_type": "markdown",
   "id": "52b8325a",
   "metadata": {},
   "source": [
    "Que-118. Identity operators: demonstrate the use of is and is not with two variables referencing the same list."
   ]
  },
  {
   "cell_type": "code",
   "execution_count": null,
   "id": "b456c26c",
   "metadata": {},
   "outputs": [],
   "source": [
    "print(\"Que-118. Identity operators: demonstrate the use of is and is not with two variables referencing the same list.\")\n",
    "print(\"\\n\")\n",
    "\n"
   ]
  },
  {
   "cell_type": "markdown",
   "id": "0db0f116",
   "metadata": {},
   "source": [
    "Que-119. Compare identity vs equality: describe a case where a == b is True but a is b is False."
   ]
  },
  {
   "cell_type": "code",
   "execution_count": null,
   "id": "9ce9a530",
   "metadata": {},
   "outputs": [],
   "source": [
    "print(\"Que-119. Compare identity vs equality: describe a case where a == b is True but a is b is False.\")\n",
    "print(\"\\n\")\n",
    "\n"
   ]
  },
  {
   "cell_type": "markdown",
   "id": "8d91c0c1",
   "metadata": {},
   "source": [
    "Que-120. Show that small integers/strings may have the same identity due to interning; conceptually check is results."
   ]
  },
  {
   "cell_type": "code",
   "execution_count": null,
   "id": "19eee948",
   "metadata": {},
   "outputs": [],
   "source": [
    "print(\"Que-120. Show that small integers/strings may have the same identity due to interning; conceptually check is results.\")\n",
    "print(\"\\n\")\n",
    "\n"
   ]
  },
  {
   "cell_type": "markdown",
   "id": "71a530e3",
   "metadata": {},
   "source": [
    "Que-121. Combine operators: check if a user-entered number is an even member of a given list using % and in."
   ]
  },
  {
   "cell_type": "code",
   "execution_count": null,
   "id": "1e6c51c6",
   "metadata": {},
   "outputs": [],
   "source": [
    "print(\"Que-121. Combine operators: check if a user-entered number is an even member of a given list using % and in.\")\n",
    "print(\"\\n\")\n",
    "\n"
   ]
  },
  {
   "cell_type": "markdown",
   "id": "aad0a3c0",
   "metadata": {},
   "source": [
    "Que-122. Use a conditional expression with membership: 'Found' if an item is in a list else 'Not Found'."
   ]
  },
  {
   "cell_type": "code",
   "execution_count": null,
   "id": "f3f2064f",
   "metadata": {},
   "outputs": [],
   "source": [
    "print(\"Que-122. Use a conditional expression with membership: 'Found' if an item is in a list else 'Not Found'.\")\n",
    "print(\"\\n\")\n",
    "\n"
   ]
  },
  {
   "cell_type": "markdown",
   "id": "0274c354",
   "metadata": {},
   "source": [
    "Que-123. Use logical operators with comparisons: verify that age is between 18 and 60 (inclusive)."
   ]
  },
  {
   "cell_type": "code",
   "execution_count": null,
   "id": "d38c88d0",
   "metadata": {},
   "outputs": [],
   "source": [
    "print(\"Que-123. Use logical operators with comparisons: verify that age is between 18 and 60 (inclusive).\")\n",
    "print(\"\\n\")\n",
    "\n"
   ]
  },
  {
   "cell_type": "markdown",
   "id": "7fa127e4",
   "metadata": {},
   "source": [
    "Que-124. Demonstrate augmented assignment in a loop: conceptually build a running sum using +=."
   ]
  },
  {
   "cell_type": "code",
   "execution_count": null,
   "id": "874573a7",
   "metadata": {},
   "outputs": [],
   "source": [
    "print(\"Que-124. Demonstrate augmented assignment in a loop: conceptually build a running sum using +=.\")\n",
    "print(\"\\n\")\n",
    "\n"
   ]
  },
  {
   "cell_type": "markdown",
   "id": "84d12064",
   "metadata": {},
   "source": [
    "Que-125. Show operator precedence between arithmetic, comparison, and logical operators in a compound expression."
   ]
  },
  {
   "cell_type": "code",
   "execution_count": null,
   "id": "e0e8fd1f",
   "metadata": {},
   "outputs": [],
   "source": [
    "print(\"Que-125. Show operator precedence between arithmetic, comparison, and logical operators in a compound expression.\")\n",
    "print(\"\\n\")\n",
    "\n"
   ]
  },
  {
   "cell_type": "markdown",
   "id": "c986d6b7",
   "metadata": {},
   "source": [
    "Que-126. Using bitwise AND (&): ask for two integers and describe what a & b would compute (bit-by-bit)."
   ]
  },
  {
   "cell_type": "code",
   "execution_count": null,
   "id": "21f127f7",
   "metadata": {},
   "outputs": [],
   "source": [
    "print(\"Que-126. Using bitwise AND (&): ask for two integers and describe what a & b would compute (bit-by-bit).\")\n",
    "print(\"\\n\")\n",
    "\n"
   ]
  },
  {
   "cell_type": "markdown",
   "id": "748a504f",
   "metadata": {},
   "source": [
    "Que-127. Using bitwise OR (|): ask for two integers and describe what a | b would compute."
   ]
  },
  {
   "cell_type": "code",
   "execution_count": null,
   "id": "150705db",
   "metadata": {},
   "outputs": [],
   "source": [
    "print(\"Que-127. Using bitwise OR (|): ask for two integers and describe what a | b would compute.\")\n",
    "print(\"\\n\")\n",
    "\n"
   ]
  },
  {
   "cell_type": "markdown",
   "id": "682fd196",
   "metadata": {},
   "source": [
    "Que-128. Using bitwise XOR (^): ask for two integers and describe when bits flip in a ^ b."
   ]
  },
  {
   "cell_type": "code",
   "execution_count": null,
   "id": "1da1756f",
   "metadata": {},
   "outputs": [],
   "source": [
    "print(\"Que-128. Using bitwise XOR (^): ask for two integers and describe when bits flip in a ^ b.\")\n",
    "print(\"\\n\")\n",
    "\n"
   ]
  },
  {
   "cell_type": "markdown",
   "id": "6bd60738",
   "metadata": {},
   "source": [
    "Que-129. Using bitwise NOT (~): ask for an integer and describe conceptually what ~x does (two's complement)."
   ]
  },
  {
   "cell_type": "code",
   "execution_count": null,
   "id": "a14119e3",
   "metadata": {},
   "outputs": [],
   "source": [
    "print(\"Que-129. Using bitwise NOT (~): ask for an integer and describe conceptually what ~x does (two's complement).\")\n",
    "print(\"\\n\")\n",
    "\n"
   ]
  },
  {
   "cell_type": "markdown",
   "id": "ff1f2d24",
   "metadata": {},
   "source": [
    "Que-130. Left shift (<<): ask for a number and a shift count; describe how x << n multiplies by 2**n."
   ]
  },
  {
   "cell_type": "code",
   "execution_count": null,
   "id": "ba10197e",
   "metadata": {},
   "outputs": [],
   "source": [
    "print(\"Que-130. Left shift (<<): ask for a number and a shift count; describe how x << n multiplies by 2**n.\")\n",
    "print(\"\\n\")\n",
    "\n"
   ]
  },
  {
   "cell_type": "markdown",
   "id": "dee79d9e",
   "metadata": {},
   "source": [
    "Que-131. Right shift (>>): ask for a number and a shift count; describe how x >> n floors division by 2**n."
   ]
  },
  {
   "cell_type": "code",
   "execution_count": null,
   "id": "004495e3",
   "metadata": {},
   "outputs": [],
   "source": [
    "print(\"Que-131. Right shift (>>): ask for a number and a shift count; describe how x >> n floors division by 2**n.\")\n",
    "print(\"\\n\")\n",
    "\n"
   ]
  },
  {
   "cell_type": "markdown",
   "id": "6cbd7f61",
   "metadata": {},
   "source": [
    "Que-132. Bit mask check: ask for a number x and bit position k; describe how to check if the k-th bit is set."
   ]
  },
  {
   "cell_type": "code",
   "execution_count": null,
   "id": "c379c6d8",
   "metadata": {},
   "outputs": [],
   "source": [
    "print(\"Que-132. Bit mask check: ask for a number x and bit position k; describe how to check if the k-th bit is set.\")\n",
    "print(\"\\n\")\n",
    "\n"
   ]
  },
  {
   "cell_type": "markdown",
   "id": "73ebed41",
   "metadata": {},
   "source": [
    "Que-133. Toggle a specific bit: ask for x and k; describe how to toggle the k-th bit using XOR."
   ]
  },
  {
   "cell_type": "code",
   "execution_count": null,
   "id": "9279e16e",
   "metadata": {},
   "outputs": [],
   "source": [
    "print(\"Que-133. Toggle a specific bit: ask for x and k; describe how to toggle the k-th bit using XOR.\")\n",
    "print(\"\\n\")\n",
    "\n"
   ]
  },
  {
   "cell_type": "markdown",
   "id": "f9f9bf30",
   "metadata": {},
   "source": [
    "Que-134. Clear a bit: ask for x and k; describe how to clear the k-th bit using AND with a complement mask."
   ]
  },
  {
   "cell_type": "code",
   "execution_count": null,
   "id": "d8d57ea2",
   "metadata": {},
   "outputs": [],
   "source": [
    "print(\"Que-134. Clear a bit: ask for x and k; describe how to clear the k-th bit using AND with a complement mask.\")\n",
    "print(\"\\n\")\n",
    "\n"
   ]
  },
  {
   "cell_type": "markdown",
   "id": "de819300",
   "metadata": {},
   "source": [
    "Que-135. Set a bit: ask for x and k; describe how to set the k-th bit using OR with a mask."
   ]
  },
  {
   "cell_type": "code",
   "execution_count": null,
   "id": "0937bec1",
   "metadata": {},
   "outputs": [],
   "source": [
    "print(\"Que-135. Set a bit: ask for x and k; describe how to set the k-th bit using OR with a mask.\")\n",
    "print(\"\\n\")\n",
    "\n"
   ]
  },
  {
   "cell_type": "markdown",
   "id": "31913126",
   "metadata": {},
   "source": [
    "Que-136. Membership with sets: ask for a value and a set; conceptually check if the value is in the set."
   ]
  },
  {
   "cell_type": "code",
   "execution_count": null,
   "id": "7489cd00",
   "metadata": {},
   "outputs": [],
   "source": [
    "print(\"Que-136. Membership with sets: ask for a value and a set; conceptually check if the value is in the set.\")\n",
    "print(\"\\n\")\n",
    "\n"
   ]
  },
  {
   "cell_type": "markdown",
   "id": "9caf50ce",
   "metadata": {},
   "source": [
    "Que-137. Compare membership in list vs set: conceptually discuss lookup for presence using 'in'."
   ]
  },
  {
   "cell_type": "code",
   "execution_count": null,
   "id": "7e003855",
   "metadata": {},
   "outputs": [],
   "source": [
    "print(\"Que-137. Compare membership in list vs set: conceptually discuss lookup for presence using 'in'.\")\n",
    "print(\"\\n\")\n",
    "\n"
   ]
  },
  {
   "cell_type": "markdown",
   "id": "b7244bb5",
   "metadata": {},
   "source": [
    "Que-138. Identity and None: ask for a variable; conceptually check if it is None using 'is'."
   ]
  },
  {
   "cell_type": "code",
   "execution_count": null,
   "id": "6c4a77e0",
   "metadata": {},
   "outputs": [],
   "source": [
    "print(\"Que-138. Identity and None: ask for a variable; conceptually check if it is None using 'is'.\")\n",
    "print(\"\\n\")\n",
    "\n"
   ]
  },
  {
   "cell_type": "markdown",
   "id": "617e4ab3",
   "metadata": {},
   "source": [
    "Que-139. Equality vs identity with None: ask for a variable; discuss why 'is None' is preferred over '== None'."
   ]
  },
  {
   "cell_type": "code",
   "execution_count": null,
   "id": "8417e751",
   "metadata": {},
   "outputs": [],
   "source": [
    "print(\"Que-139. Equality vs identity with None: ask for a variable; discuss why 'is None' is preferred over '== None'.\")\n",
    "print(\"\\n\")\n",
    "\n"
   ]
  },
  {
   "cell_type": "markdown",
   "id": "ad4af825",
   "metadata": {},
   "source": [
    "Que-140. Show object identity: conceptually print id(a) and id(b) to compare two variables' identities."
   ]
  },
  {
   "cell_type": "code",
   "execution_count": null,
   "id": "73c9cde5",
   "metadata": {},
   "outputs": [],
   "source": [
    "print(\"Que-140. Show object identity: conceptually print id(a) and id(b) to compare two variables' identities.\")\n",
    "print(\"\\n\")\n",
    "\n"
   ]
  },
  {
   "cell_type": "markdown",
   "id": "34a3dc21",
   "metadata": {},
   "source": [
    "Que-141. Equality vs identity with lists: two equal lists from copy; conceptually compare (==) vs (is)."
   ]
  },
  {
   "cell_type": "code",
   "execution_count": null,
   "id": "cd016b87",
   "metadata": {},
   "outputs": [],
   "source": [
    "print(\"Que-141. Equality vs identity with lists: two equal lists from copy; conceptually compare (==) vs (is).\")\n",
    "print(\"\\n\")\n",
    "\n"
   ]
  },
  {
   "cell_type": "markdown",
   "id": "333dc7c4",
   "metadata": {},
   "source": [
    "Que-142. Augmented assignment on lists: conceptually show how lst += [x] differs from lst.append(x) in expression context."
   ]
  },
  {
   "cell_type": "code",
   "execution_count": null,
   "id": "e563b093",
   "metadata": {},
   "outputs": [],
   "source": [
    "print(\"Que-142. Augmented assignment on lists: conceptually show how lst += [x] differs from lst.append(x) in expression context.\")\n",
    "print(\"\\n\")\n",
    "\n"
   ]
  },
  {
   "cell_type": "markdown",
   "id": "94b032e5",
   "metadata": {},
   "source": [
    "Que-143. Augmented assignment on strings: show that strings are immutable; s += 'x' creates a new object."
   ]
  },
  {
   "cell_type": "code",
   "execution_count": null,
   "id": "ea8bf497",
   "metadata": {},
   "outputs": [],
   "source": [
    "print(\"Que-143. Augmented assignment on strings: show that strings are immutable; s += 'x' creates a new object.\")\n",
    "print(\"\\n\")\n",
    "\n"
   ]
  },
  {
   "cell_type": "markdown",
   "id": "6e5eb405",
   "metadata": {},
   "source": [
    "Que-144. Conditional expression inside an f-string: conceptually format 'Pass' if score>=cutoff else 'Fail'."
   ]
  },
  {
   "cell_type": "code",
   "execution_count": null,
   "id": "325518b6",
   "metadata": {},
   "outputs": [],
   "source": [
    "print(\"Que-144. Conditional expression inside an f-string: conceptually format 'Pass' if score>=cutoff else 'Fail'.\")\n",
    "print(\"\\n\")\n",
    "\n"
   ]
  },
  {
   "cell_type": "markdown",
   "id": "80978035",
   "metadata": {},
   "source": [
    "Que-145. Validate input: use logical operators with membership to check username is non-empty and not in banned list."
   ]
  },
  {
   "cell_type": "code",
   "execution_count": null,
   "id": "e21d3df1",
   "metadata": {},
   "outputs": [],
   "source": [
    "print(\"Que-145. Validate input: use logical operators with membership to check username is non-empty and not in banned list.\")\n",
    "print(\"\\n\")\n",
    "\n"
   ]
  },
  {
   "cell_type": "markdown",
   "id": "a8d8c0a9",
   "metadata": {},
   "source": [
    "Que-146. any()/all(): ask for three boolean conditions; conceptually show how any(...) and all(...) evaluate them."
   ]
  },
  {
   "cell_type": "code",
   "execution_count": null,
   "id": "be0c3a79",
   "metadata": {},
   "outputs": [],
   "source": [
    "print(\"Que-146. any()/all(): ask for three boolean conditions; conceptually show how any(...) and all(...) evaluate them.\")\n",
    "print(\"\\n\")\n",
    "\n"
   ]
  },
  {
   "cell_type": "markdown",
   "id": "7559ad51",
   "metadata": {},
   "source": [
    "Que-147. Operator precedence: evaluate an expression mixing not, and, or; predict the result."
   ]
  },
  {
   "cell_type": "code",
   "execution_count": null,
   "id": "6d217eae",
   "metadata": {},
   "outputs": [],
   "source": [
    "print(\"Que-147. Operator precedence: evaluate an expression mixing not, and, or; predict the result.\")\n",
    "print(\"\\n\")\n",
    "\n"
   ]
  },
  {
   "cell_type": "markdown",
   "id": "83ce3324",
   "metadata": {},
   "source": [
    "Que-148. Parentheses effect: rewrite the same expression with parentheses to change its result."
   ]
  },
  {
   "cell_type": "code",
   "execution_count": null,
   "id": "4d2f1dce",
   "metadata": {},
   "outputs": [],
   "source": [
    "print(\"Que-148. Parentheses effect: rewrite the same expression with parentheses to change its result.\")\n",
    "print(\"\\n\")\n",
    "\n"
   ]
  },
  {
   "cell_type": "markdown",
   "id": "952994c1",
   "metadata": {},
   "source": [
    "Que-149. Phone number check: string isdigit() and length==10 using logical operators; concept-only validation."
   ]
  },
  {
   "cell_type": "code",
   "execution_count": null,
   "id": "07fec521",
   "metadata": {},
   "outputs": [],
   "source": [
    "print(\"Que-149. Phone number check: string isdigit() and length==10 using logical operators; concept-only validation.\")\n",
    "print(\"\\n\")\n",
    "\n"
   ]
  },
  {
   "cell_type": "markdown",
   "id": "9bf8c2db",
   "metadata": {},
   "source": [
    "Que-150. Walrus operator (:=): conceptually read input and test its length in one expression (Python 3.8+)."
   ]
  },
  {
   "cell_type": "code",
   "execution_count": null,
   "id": "2f579c27",
   "metadata": {},
   "outputs": [],
   "source": [
    "print(\"Que-150. Walrus operator (:=): conceptually read input and test its length in one expression (Python 3.8+).\")\n",
    "print(\"\\n\")\n",
    "\n"
   ]
  },
  {
   "cell_type": "markdown",
   "id": "b8ae7db8",
   "metadata": {},
   "source": [
    "Que-151. Short-circuit safety: avoid ZeroDivisionError by checking denominator first with 'and' before division."
   ]
  },
  {
   "cell_type": "code",
   "execution_count": null,
   "id": "5d292cfe",
   "metadata": {},
   "outputs": [],
   "source": [
    "print(\"Que-151. Short-circuit safety: avoid ZeroDivisionError by checking denominator first with 'and' before division.\")\n",
    "print(\"\\n\")\n",
    "\n"
   ]
  },
  {
   "cell_type": "markdown",
   "id": "c04cd99e",
   "metadata": {},
   "source": [
    "Que-152. Chained comparisons: ask for x; conceptually check 1 < x <= 10 in a single expression."
   ]
  },
  {
   "cell_type": "code",
   "execution_count": null,
   "id": "4ae66343",
   "metadata": {},
   "outputs": [],
   "source": [
    "print(\"Que-152. Chained comparisons: ask for x; conceptually check 1 < x <= 10 in a single expression.\")\n",
    "print(\"\\n\")\n",
    "\n"
   ]
  },
  {
   "cell_type": "markdown",
   "id": "7f1a6bcc",
   "metadata": {},
   "source": [
    "Que-153. Float comparison with tolerance: conceptually check if |a-b| < 1e-9 instead of a == b."
   ]
  },
  {
   "cell_type": "code",
   "execution_count": null,
   "id": "edcd4f5d",
   "metadata": {},
   "outputs": [],
   "source": [
    "print(\"Que-153. Float comparison with tolerance: conceptually check if |a-b| < 1e-9 instead of a == b.\")\n",
    "print(\"\\n\")\n",
    "\n"
   ]
  },
  {
   "cell_type": "markdown",
   "id": "740fa878",
   "metadata": {},
   "source": [
    "Que-154. Multiple assignment and unpacking: conceptually do a, b = b, a to swap two values."
   ]
  },
  {
   "cell_type": "code",
   "execution_count": null,
   "id": "1fb6faf8",
   "metadata": {},
   "outputs": [],
   "source": [
    "print(\"Que-154. Multiple assignment and unpacking: conceptually do a, b = b, a to swap two values.\")\n",
    "print(\"\\n\")\n",
    "\n"
   ]
  },
  {
   "cell_type": "markdown",
   "id": "879b6e49",
   "metadata": {},
   "source": [
    "Que-155. Chain assignment: a = b = c = 0; conceptually discuss how later updates to one variable affect others."
   ]
  },
  {
   "cell_type": "code",
   "execution_count": null,
   "id": "6b29671a",
   "metadata": {},
   "outputs": [],
   "source": [
    "print(\"Que-155. Chain assignment: a = b = c = 0; conceptually discuss how later updates to one variable affect others.\")\n",
    "print(\"\\n\")\n"
   ]
  }
 ],
 "metadata": {},
 "nbformat": 4,
 "nbformat_minor": 5
}
