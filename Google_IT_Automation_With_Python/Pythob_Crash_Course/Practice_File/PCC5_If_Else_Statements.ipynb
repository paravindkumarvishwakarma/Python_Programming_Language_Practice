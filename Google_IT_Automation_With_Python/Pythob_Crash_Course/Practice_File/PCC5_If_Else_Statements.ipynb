{
 "cells": [
  {
   "cell_type": "markdown",
   "id": "cd8feae8",
   "metadata": {},
   "source": [
    "1. Create a function named hint_username that takes a parameter username. If the length of username is less than 3, it should print \"Invalid username. Must be at least 3 characters long\". Test your function with different usernames."
   ]
  },
  {
   "cell_type": "code",
   "execution_count": null,
   "id": "c8b850fa",
   "metadata": {},
   "outputs": [],
   "source": [
    "Create a function named hint_username that takes a parameter username. If the length of username is less than 3, it should print \"Invalid username. Must be at least 3 characters long\". Test your function with different usernames."
   ]
  },
  {
   "cell_type": "markdown",
   "id": "c960e504",
   "metadata": {},
   "source": [
    "2. Modify the Function: Modify the hint_username function to return a boolean value. It should return True if the username is valid (3 or more characters) and False otherwise."
   ]
  },
  {
   "cell_type": "code",
   "execution_count": null,
   "id": "417266a3",
   "metadata": {},
   "outputs": [],
   "source": [
    "def hint_username(username):\n",
    "    # Your code here"
   ]
  },
  {
   "cell_type": "markdown",
   "id": "d5572fc6",
   "metadata": {},
   "source": [
    "3. Add More Validation: Extend the hint_username function to check if the username contains any special characters (e.g., @, #, $, etc.). If it does, print \"Invalid username. Must not contain special characters.\""
   ]
  },
  {
   "cell_type": "code",
   "execution_count": null,
   "id": "56eaa7be",
   "metadata": {},
   "outputs": [],
   "source": [
    "def hint_username(username):\n",
    "    # Your code here"
   ]
  },
  {
   "cell_type": "markdown",
   "id": "3c25e354",
   "metadata": {},
   "source": [
    "4. Test Cases: Write a series of test cases to validate the functionality of your hint_username function. Include usernames that are valid, too short, and contain special characters."
   ]
  },
  {
   "cell_type": "markdown",
   "id": "d9555833",
   "metadata": {},
   "source": [
    "5. User Input: Create a program that prompts the user to enter a username and then calls the hint_username function to validate it. Print the result based on the validation."
   ]
  },
  {
   "cell_type": "code",
   "execution_count": null,
   "id": "5f6fa702",
   "metadata": {},
   "outputs": [],
   "source": [
    "username = input(\"Enter a username: \")\n",
    "# Call your function here"
   ]
  },
  {
   "cell_type": "markdown",
   "id": "b5946c7a",
   "metadata": {},
   "source": [
    "6. Logical Question: Hint Username"
   ]
  },
  {
   "cell_type": "code",
   "execution_count": null,
   "id": "2d30fe25",
   "metadata": {},
   "outputs": [],
   "source": [
    "def hint_username(username):\n",
    "    if len(username) < 3:\n",
    "        print(\"Invalid username. Must be at least 3 characters long\")\n",
    "    else:\n",
    "        print(\"Valid username\")\n",
    "#This code will not have an output. "
   ]
  },
  {
   "cell_type": "markdown",
   "id": "c64f51dd",
   "metadata": {},
   "source": [
    "7. Even Number check"
   ]
  },
  {
   "cell_type": "code",
   "execution_count": null,
   "id": "c929cb19",
   "metadata": {},
   "outputs": [],
   "source": [
    "def hint_username(username):\n",
    "    if len(username) < 3:\n",
    "        print(\"Invalid username. Must be at least 3 characters long\")\n",
    "    else:\n",
    "        print(\"Valid username\")\n",
    "#This code will not have an output. "
   ]
  },
  {
   "cell_type": "markdown",
   "id": "d03f74e1",
   "metadata": {},
   "source": [
    "8. Write a Function: Create a function named check_username that takes a string parameter username. The function should print \"Invalid username. Must be at least 3 characters long\" if the username is less than 3 characters, \"Invalid username. Must be at most 15 characters long\" if it is more than 15 characters, and \"Valid username\" if it is between 3 and 15 characters long."
   ]
  },
  {
   "cell_type": "markdown",
   "id": "5b39ddf9",
   "metadata": {},
   "source": [
    "9. Modify the Function: Modify the hint_username function to also check if the username contains any spaces. If it does, print \"Invalid username. Must not contain spaces.\" Ensure this check is performed before checking the length."
   ]
  },
  {
   "cell_type": "markdown",
   "id": "177f958e",
   "metadata": {},
   "source": [
    "10. Test Cases: Write a series of test cases to validate the hint_username function. Include usernames of varying lengths, usernames with spaces, and valid usernames. Print the results of each test case."
   ]
  },
  {
   "cell_type": "markdown",
   "id": "cdfe2896",
   "metadata": {},
   "source": [
    "11. User Input: Write a program that prompts the user to enter a username and then calls the hint_username function to validate the input. Ensure that the program continues to prompt the user until a valid username is entered."
   ]
  },
  {
   "cell_type": "markdown",
   "id": "33661ed9",
   "metadata": {},
   "source": [
    "12. Refactor the Code: Refactor the hint_username function to return a boolean value: True for a valid username and False for an invalid username. Then, write a new function that uses this return value to print an appropriate message."
   ]
  },
  {
   "cell_type": "markdown",
   "id": "8d9f1897",
   "metadata": {},
   "source": [
    "13. Create a Username Validator: Write a function called validate_username that checks if a username is valid based on the following criteria:\n",
    "\n",
    "Must be between 3 and 15 characters long.\n",
    "Must not contain any special characters (only letters and numbers are allowed).\n",
    "Return a message indicating whether the username is valid or not."
   ]
  },
  {
   "cell_type": "markdown",
   "id": "d7ee377f",
   "metadata": {},
   "source": [
    "14. Username Length Function: Write a function named username_length that takes a username as input and returns the length of the username. If the username is invalid (less than 3 or more than 15 characters), return -1."
   ]
  },
  {
   "cell_type": "markdown",
   "id": "d0bd3331",
   "metadata": {},
   "source": [
    "15. Interactive Username Checker: Develop a program that continuously prompts the user to enter a username until they enter \"exit\". For each username entered, use the hint_username function to validate it and print the result. "
   ]
  },
  {
   "cell_type": "markdown",
   "id": "f1bf5b7d",
   "metadata": {},
   "source": [
    "16. Username History: Create a program that stores all valid usernames entered by the user in a list. After the user decides to stop entering usernames, print the list of valid usernames."
   ]
  },
  {
   "cell_type": "markdown",
   "id": "f200d69a",
   "metadata": {},
   "source": [
    "17. Refactor for Reusability: Refactor the hint_username function to separate the validation logic from the printing logic. Create a new function that handles the printing of messages based on the validation results. This will make the code more modular and reusable."
   ]
  },
  {
   "cell_type": "markdown",
   "id": "be690e9c",
   "metadata": {},
   "source": [
    "18. Logical Deduction: If a username is entered as \"abc123\", what will the hint_username function output? Explain your reasoning based on the function's criteria."
   ]
  },
  {
   "cell_type": "markdown",
   "id": "3be6a69d",
   "metadata": {},
   "source": [
    "19. Scenario Analysis: Consider a scenario where a user enters the username \"user name\". What will the output of the hint_username function be? Justify your answer based on the function's logic."
   ]
  },
  {
   "cell_type": "markdown",
   "id": "0aac61b9",
   "metadata": {},
   "source": [
    "20. Condition Evaluation: If the username \"ab\" is inputted, which part of the hint_username function will execute? Describe the flow of execution through the function."
   ]
  },
  {
   "cell_type": "markdown",
   "id": "0ca6fbec",
   "metadata": {},
   "source": [
    "21. Boundary Testing: If a username is exactly 3 characters long, what will the output of the hint_username function be? Discuss how boundary values are important in programming."
   ]
  },
  {
   "cell_type": "markdown",
   "id": "db3a0b0c",
   "metadata": {},
   "source": [
    "22. Error Identification: Identify a potential logical error in the hint_username function if it were to be modified to allow usernames with special characters. What changes would you need to make to ensure the function still validates usernames correctly?"
   ]
  },
  {
   "cell_type": "markdown",
   "id": "3d12fea8",
   "metadata": {},
   "source": [
    "23. Website Error Code using IF-Else branchings"
   ]
  },
  {
   "cell_type": "code",
   "execution_count": 1,
   "id": "be1ad9e2",
   "metadata": {},
   "outputs": [
    {
     "name": "stdout",
     "output_type": "stream",
     "text": [
      "Requested web page not found on server\n"
     ]
    }
   ],
   "source": [
    "# This function accepts one variable as a parameter\n",
    "def translate_error_code(error_code):\n",
    " \n",
    "# The if-elif-else block assesses the value of the variable\n",
    "# passed to the function as a parameter. The if statement uses \n",
    "# the equality operator == to test the value of the variable.\n",
    "# This test returns a Boolean (True/False) result.\n",
    "    if error_code == \"401 Unauthorized\":\n",
    "# If the comparison above returns True, then the indented \n",
    "# line(s) inside the if-statement will run. In this case, the\n",
    "# action is to assign a string to the translation variable.\n",
    "# The remainder of the if-elif-else block will not run.\n",
    "# The Python interpreter will skip to the next line outside of \n",
    "# the if-elif-else block. In this case, the next line is the \n",
    "# return value statement.  \n",
    "        translation = \"Server received an unauthenticated request\"\n",
    " \n",
    "# If the initial if-statement returns a False result, then the\n",
    "# first elif-statement will run a different test on the value\n",
    "# of the variable.\n",
    "    elif error_code == \"404 Not Found\":\n",
    "# If the first elif-statement returns a True result, then the\n",
    "# indented line(s) inside the first elif-statement will run. \n",
    "# After this line, the remainder of the if-elif-else block will\n",
    "# not run. The Python interpreter will skip to the next line\n",
    "# outside of the if-elif-else block. \n",
    "        translation = \"Requested web page not found on server\"\n",
    " \n",
    "# If both the initial if-statement and the first elif-statement \n",
    "# return a False result, then the second elif-statement will\n",
    "# run.\n",
    "    elif error_code == \"408 Request Timeout\":\n",
    "# If the second elif-statement returns a True result, then the\n",
    "# indented line(s) inside the second elif-statement will run. \n",
    "# After this line, the remainder of the if-elif-else block will\n",
    "# not run. The Python interpreter will skip to the next line\n",
    "# outside of the if-elif-else block. \n",
    "        translation = \"Server request to close unused connection\"\n",
    " \n",
    "# If the conditional tests above do not produce a True result\n",
    "# then the else-statement will run. \n",
    "    else:\n",
    "        translation = \"Unknown error code\"\n",
    "# The if-elif-else block ends.\n",
    "\n",
    "# The next line outside of the if-elif-else block will run\n",
    "# after exiting the block. In this case, the next line returns\n",
    "# the output from the if-elif-else block.\n",
    "    return translation\n",
    "\n",
    "# The print() function allows us to display the output of the\n",
    "# function. To call a function in a print statement, the syntax\n",
    "# is print(name_of_function(parameter))\n",
    "print(translate_error_code(\"404 Not Found\"))\n",
    "\n",
    "# Expected output:\n",
    "# Requested web page not found on server"
   ]
  },
  {
   "cell_type": "markdown",
   "id": "d6e10d83",
   "metadata": {},
   "source": [
    "24. This function rounds a variable number up to the nearest 10x value"
   ]
  },
  {
   "cell_type": "code",
   "execution_count": null,
   "id": "b8350af5",
   "metadata": {},
   "outputs": [],
   "source": [
    "# This function rounds a variable number up to the nearest 10x value\n",
    "def round_up(number):\n",
    "  x = 10\n",
    "# The floor division operator will calculate the integer value of\n",
    "# \"number\" divided by x: 35 // 10 will return the integer 3.\n",
    "  whole_number = number // x\n",
    "# The modulo operator will calculate the remainder value of \"number\"\n",
    "# divided by x: 35 % 10 will return the remainder value 5.\n",
    "  remainder = number % x\n",
    "# If the remainder is greater than or equal to 5: \n",
    "  if remainder >= 5: \n",
    "# Return x multiplied by the (whole_number+1) to round up\n",
    "    return x*(whole_number+1)\n",
    "# Else, return x multiplied by the whole_number to round down\n",
    "  return x*whole_number\n",
    " \n",
    "# Calls the function with the parameter value of 35.\n",
    "print(round_up(35)) # Should print 40"
   ]
  },
  {
   "cell_type": "markdown",
   "id": "2f12b6ed",
   "metadata": {},
   "source": [
    "25. If a filesystem has a block size of 4096 bytes, this means that a file comprised of only one byte will still use 4096 bytes of storage. A file made up of 4097 bytes will use 4096*2=8192 bytes of storage. Knowing this, can you fill in the gaps in the calculate_storage function below, which calculates the total number of bytes needed to store a file of a given size?"
   ]
  },
  {
   "cell_type": "code",
   "execution_count": null,
   "id": "f9c5e754",
   "metadata": {},
   "outputs": [],
   "source": [
    "def calculate_storage(filesize):\n",
    "    block_size = 4096\n",
    "    # Use floor division to calculate how many blocks are fully occupied\n",
    "    full_blocks = \n",
    "    # Use the modulo operator to check whether there's any remainder\n",
    "    partial_block_remainder = ___\n",
    "    # Depending on whether there's a remainder or not, return\n",
    "    # the total number of bytes required to allocate enough blocks\n",
    "    # to store your data.\n",
    "    if partial_block_remainder > 0:\n",
    "        return full_blocks\n",
    "    return partial_block_remainder\n",
    "\n",
    "print(calculate_storage(1))    # Should be 4096\n",
    "print(calculate_storage(4096)) # Should be 4096\n",
    "print(calculate_storage(4097)) # Should be 8192\n",
    "print(calculate_storage(6000)) # Should be 8192"
   ]
  },
  {
   "cell_type": "code",
   "execution_count": null,
   "id": "8f1bb23e",
   "metadata": {},
   "outputs": [
    {
     "name": "stdout",
     "output_type": "stream",
     "text": [
      "This comparison is True\n"
     ]
    },
    {
     "ename": "",
     "evalue": "",
     "output_type": "error",
     "traceback": [
      "\u001b[1;31mThe Kernel crashed while executing code in the current cell or a previous cell. \n",
      "\u001b[1;31mPlease review the code in the cell(s) to identify a possible cause of the failure. \n",
      "\u001b[1;31mClick <a href='https://aka.ms/vscodeJupyterKernelCrash'>here</a> for more info. \n",
      "\u001b[1;31mView Jupyter <a href='command:jupyter.viewOutput'>log</a> for further details."
     ]
    }
   ],
   "source": []
  }
 ],
 "metadata": {
  "kernelspec": {
   "display_name": "Python 3",
   "language": "python",
   "name": "python3"
  },
  "language_info": {
   "codemirror_mode": {
    "name": "ipython",
    "version": 3
   },
   "file_extension": ".py",
   "mimetype": "text/x-python",
   "name": "python",
   "nbconvert_exporter": "python",
   "pygments_lexer": "ipython3",
   "version": "3.13.7"
  }
 },
 "nbformat": 4,
 "nbformat_minor": 5
}
