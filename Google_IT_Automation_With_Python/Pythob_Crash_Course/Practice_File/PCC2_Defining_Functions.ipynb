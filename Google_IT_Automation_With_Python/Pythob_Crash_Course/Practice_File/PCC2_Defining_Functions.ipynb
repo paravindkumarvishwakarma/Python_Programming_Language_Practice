{
 "cells": [
  {
   "cell_type": "code",
   "execution_count": 1,
   "id": "5d777fa7",
   "metadata": {},
   "outputs": [
    {
     "name": "stdout",
     "output_type": "stream",
     "text": [
      "Welcome, Kay\n",
      "Welcome, Cameron\n"
     ]
    }
   ],
   "source": [
    "def greeting(name):\n",
    "    print(\"Welcome, \" + name)\n",
    "    \n",
    "greeting(\"Kay\")\n",
    "greeting(\"Cameron\")"
   ]
  },
  {
   "cell_type": "code",
   "execution_count": 1,
   "id": "a9891835",
   "metadata": {},
   "outputs": [
    {
     "name": "stdout",
     "output_type": "stream",
     "text": [
      "Welcome, Blake\n",
      "You are part of Software engineering\n",
      "Welcome, Ellis\n",
      "You are part of Software engineering\n"
     ]
    }
   ],
   "source": [
    "def greeting(name, department):\n",
    "    print(\"Welcome, \" + name)\n",
    "    print(\"You are part of \" + department)\n",
    "    \n",
    "greeting(\"Blake\", \"Software engineering\")\n",
    "greeting(\"Ellis\", \"Software engineering\")"
   ]
  }
 ],
 "metadata": {
  "kernelspec": {
   "display_name": "Python 3",
   "language": "python",
   "name": "python3"
  },
  "language_info": {
   "codemirror_mode": {
    "name": "ipython",
    "version": 3
   },
   "file_extension": ".py",
   "mimetype": "text/x-python",
   "name": "python",
   "nbconvert_exporter": "python",
   "pygments_lexer": "ipython3",
   "version": "3.13.8"
  }
 },
 "nbformat": 4,
 "nbformat_minor": 5
}
