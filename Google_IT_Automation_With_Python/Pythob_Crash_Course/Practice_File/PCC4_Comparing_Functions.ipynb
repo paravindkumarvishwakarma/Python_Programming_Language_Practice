{
 "cells": [
  {
   "cell_type": "markdown",
   "id": "c6d9d52d",
   "metadata": {},
   "source": [
    "1. Write a Code: Write a Python code snippet that checks if the number 15 is greater than 10 and prints the result. What should the output be?"
   ]
  },
  {
   "cell_type": "markdown",
   "id": "81cb8e04",
   "metadata": {},
   "source": [
    "2. Modify the Code: Modify the following code to check if the string \"apple\" is equal to \"orange\" and print the result."
   ]
  },
  {
   "cell_type": "code",
   "execution_count": null,
   "id": "47291a8f",
   "metadata": {},
   "outputs": [],
   "source": [
    "print(\"apple\" == \"orange\")"
   ]
  },
  {
   "cell_type": "markdown",
   "id": "58eb9db6",
   "metadata": {},
   "source": [
    "3. Error Handling: Write a code snippet that attempts to compare the integer 5 with the string \"5\". What error do you expect, and how can you handle it?"
   ]
  },
  {
   "cell_type": "markdown",
   "id": "b6d8bb9f",
   "metadata": {},
   "source": [
    "4. Logical Operators: Create a Python expression using logical operators that checks if 100 is greater than 50 or if 20 is not equal to 20. Print the result."
   ]
  },
  {
   "cell_type": "markdown",
   "id": "583de2c4",
   "metadata": {},
   "source": [
    "5. Combine Conditions: Write a code snippet that checks if both \"Red\" is greater than \"Blue\" and \"Green\" is greater than \"Yellow\". Print the result of this combined condition."
   ]
  },
  {
   "cell_type": "markdown",
   "id": "f32374c0",
   "metadata": {},
   "source": [
    "6. Boolean Expression: Write a Python code snippet that checks if the number 8 is less than 10 and if the number 3 is not equal to 4. Print the result of this combined condition."
   ]
  },
  {
   "cell_type": "markdown",
   "id": "1b9f62ff",
   "metadata": {},
   "source": [
    "7. String Comparison: Create a code snippet that compares the strings \"Python\" and \"python\" using the equality operator. What will the output be?"
   ]
  },
  {
   "cell_type": "markdown",
   "id": "5b4241b8",
   "metadata": {},
   "source": [
    "8. Chained Comparisons: Write a code snippet that checks if the number 25 is between 20 and 30 (inclusive). Print True if it is, otherwise print False."
   ]
  },
  {
   "cell_type": "markdown",
   "id": "9bf15d79",
   "metadata": {},
   "source": [
    "9. Using not Operator: Write a code snippet that checks if the variable x is not equal to 10. Set x to 5 and print the result."
   ]
  },
  {
   "cell_type": "markdown",
   "id": "4f71f6e9",
   "metadata": {},
   "source": [
    "10. Complex Condition: Write a code snippet that checks if either \"Banana\" is greater than \"Apple\" or \"Grape\" is less than \"Orange\". Print the result of this condition."
   ]
  },
  {
   "cell_type": "markdown",
   "id": "02ffdf17",
   "metadata": {},
   "source": [
    "11. Nested Conditions: Write a code snippet that checks if the number 50 is greater than 25 and if the number 10 is less than 5. Print True if both conditions are true, otherwise print False."
   ]
  },
  {
   "cell_type": "markdown",
   "id": "04434c08",
   "metadata": {},
   "source": [
    "12. Type Comparison: Create a code snippet that compares the integer 1 with the string \"1\" using the equality operator. What will the output be, and why?"
   ]
  },
  {
   "cell_type": "markdown",
   "id": "857f50d7",
   "metadata": {},
   "source": [
    "13. Logical AND: Write a code snippet that checks if both conditions are true: \"Red\" is greater than \"Blue\" and \"Green\" is greater than \"Red\". Print the result."
   ]
  },
  {
   "cell_type": "markdown",
   "id": "050306a3",
   "metadata": {},
   "source": [
    "14. Using or Operator: Write a code snippet that checks if the variable y is either 0 or 1. Set y to 1 and print the result."
   ]
  },
  {
   "cell_type": "markdown",
   "id": "0d3c3afe",
   "metadata": {},
   "source": [
    "15. Combining Comparisons: Write a code snippet that checks if the number 15 is less than 20 and greater than 10. Print True if both conditions are satisfied, otherwise print False."
   ]
  },
  {
   "cell_type": "markdown",
   "id": "313fa9da",
   "metadata": {},
   "source": [
    "16. Write a Python code snippet that checks if the string \"Python\" is not equal to the string \"python\". Print the result."
   ]
  },
  {
   "cell_type": "markdown",
   "id": "fc60fc4e",
   "metadata": {},
   "source": [
    "17. Create a Python program that compares the strings \"apple\" and \"Apple\" using the greater than > operator. Print whether \"apple\" is greater than \"Apple\"."
   ]
  },
  {
   "cell_type": "markdown",
   "id": "c2e32bbc",
   "metadata": {},
   "source": [
    "18. Write a code that checks if the string \"banana\" is less than or equal to \"Banana\". Print the result."
   ]
  },
  {
   "cell_type": "markdown",
   "id": "730c5ddb",
   "metadata": {},
   "source": [
    "19. Using the != operator, write a Python code that compares the strings \"dog\" and \"cat\". Print a message indicating whether they are not equal."
   ]
  },
  {
   "cell_type": "markdown",
   "id": "7f8ba26b",
   "metadata": {},
   "source": [
    "20. Write a Python function that takes two strings as input and returns True if the first string is greater than the second string, and False otherwise. Test the function with the strings \"zebra\" and \"apple\"."
   ]
  },
  {
   "cell_type": "markdown",
   "id": "2fcae347",
   "metadata": {},
   "source": [
    "21. Write a Python code snippet that compares the strings \"hello\" and \"hello world\" using the < operator. Print whether \"hello\" is less than \"hello world\"."
   ]
  },
  {
   "cell_type": "markdown",
   "id": "bad34869",
   "metadata": {},
   "source": [
    "22. Create a Python program that checks if the string \"Python\" is equal to the string \"Python3\" using the == operator. Print the result."
   ]
  },
  {
   "cell_type": "markdown",
   "id": "2f2a131c",
   "metadata": {},
   "source": [
    "23. Write a function that takes two strings and returns True if the first string is not equal to the second string, and False otherwise. Test the function with the strings \"test\" and \"Test\"."
   ]
  },
  {
   "cell_type": "code",
   "execution_count": null,
   "id": "d05762fe",
   "metadata": {},
   "outputs": [],
   "source": [
    "def check_not_equal(str1, str2):\n",
    "    # Your code here\n",
    "    return result\n",
    "\n",
    "# Test the function\n",
    "print(check_not_equal(\"test\", \"Test\"))"
   ]
  },
  {
   "cell_type": "markdown",
   "id": "52295021",
   "metadata": {},
   "source": [
    "24. Using the >= operator, write a Python code that compares the strings \"apple\" and \"Apple\". Print whether \"apple\" is greater than or equal to \"Apple\"."
   ]
  },
  {
   "cell_type": "markdown",
   "id": "e4cc8cee",
   "metadata": {},
   "source": [
    "25. Write a Python program that compares the strings \"car\" and \"Car\" using the != operator. Print a message indicating whether they are not equal."
   ]
  },
  {
   "cell_type": "markdown",
   "id": "54523170",
   "metadata": {},
   "source": [
    "26. Write a Python code snippet that uses the and operator to check if a number is both greater than 10 and less than 20. Print \"In range\" if both conditions are true, otherwise print \"Out of range\"."
   ]
  },
  {
   "cell_type": "markdown",
   "id": "e57e0dcb",
   "metadata": {},
   "source": [
    "27. Create a Python script that checks if a variable day is either \"Saturday\" or \"Sunday\". If it is, print \"It's the weekend!\" Otherwise, print \"It's a weekday.\""
   ]
  },
  {
   "cell_type": "markdown",
   "id": "9616ab99",
   "metadata": {},
   "source": [
    "28. Write a code snippet that uses the not operator to check if a variable is_raining is False. If it is False, print \"It's a nice day!\" Otherwise, print \"Don't forget your umbrella!\""
   ]
  },
  {
   "cell_type": "markdown",
   "id": "84139d04",
   "metadata": {},
   "source": [
    "29. Create a Python function called check_age that takes an integer age as an argument. The function should return True if the age is between 18 and 65 (inclusive) using the and operator, and False otherwise."
   ]
  },
  {
   "cell_type": "markdown",
   "id": "4be1b709",
   "metadata": {},
   "source": [
    "30. Write a Python code snippet that checks if a variable temperature is either below 0 or above 100. If either condition is true, print \"Extreme temperature!\" Otherwise, print \"Temperature is normal.\""
   ]
  }
 ],
 "metadata": {
  "language_info": {
   "name": "python"
  }
 },
 "nbformat": 4,
 "nbformat_minor": 5
}
