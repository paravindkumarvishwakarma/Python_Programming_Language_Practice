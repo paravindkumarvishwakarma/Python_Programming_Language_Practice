{
 "cells": [
  {
   "cell_type": "markdown",
   "id": "90122aaa",
   "metadata": {},
   "source": [
    "Defining Function of Area of Triangle"
   ]
  },
  {
   "cell_type": "code",
   "execution_count": 1,
   "id": "7afc519f",
   "metadata": {},
   "outputs": [
    {
     "name": "stdout",
     "output_type": "stream",
     "text": [
      "The sum of both areas is: 20.5\n"
     ]
    }
   ],
   "source": [
    "def area_triangle(base, height):\n",
    "    return base*height/2\n",
    "area_a = area_triangle(5,4)\n",
    "area_b = area_triangle(7,3)\n",
    "sum = area_a + area_b\n",
    "print(\"The sum of both areas is: \" + str(sum))"
   ]
  },
  {
   "cell_type": "markdown",
   "id": "2c7ffc22",
   "metadata": {},
   "source": [
    "Convert into Seconds"
   ]
  },
  {
   "cell_type": "code",
   "execution_count": 3,
   "id": "1ac2744e",
   "metadata": {},
   "outputs": [
    {
     "name": "stdout",
     "output_type": "stream",
     "text": [
      "1 23 20\n"
     ]
    }
   ],
   "source": [
    "def convert_seconds(seconds):\n",
    "    hours = seconds // 3600\n",
    "    minutes = (seconds - hours * 3600) // 60\n",
    "    remaining_seconds = seconds - hours * 3600 - minutes * 60\n",
    "    return hours, minutes, remaining_seconds\n",
    "hours, minutes, seconds = convert_seconds(5000)\n",
    "print(hours, minutes, seconds)"
   ]
  },
  {
   "cell_type": "markdown",
   "id": "904c2723",
   "metadata": {},
   "source": [
    "Greetings Name"
   ]
  },
  {
   "cell_type": "code",
   "execution_count": 4,
   "id": "a34ce815",
   "metadata": {},
   "outputs": [
    {
     "name": "stdout",
     "output_type": "stream",
     "text": [
      "Welcome, Christine\n",
      "None\n"
     ]
    }
   ],
   "source": [
    "def greeting(name):\n",
    "    print(\"Welcome, \" + name)\n",
    "result = greeting(\"Christine\")\n",
    "print(result)"
   ]
  },
  {
   "cell_type": "markdown",
   "id": "60e60ce3",
   "metadata": {},
   "source": [
    "Prac1: Write a Function: Create a function named area_rectangle(length, width) that calculates the area of a rectangle. Use the formula ( \\text{Area} = \\text{length} \\times \\text{width} ). Test your function with length 10 and width 5."
   ]
  },
  {
   "cell_type": "code",
   "execution_count": 3,
   "id": "38800452",
   "metadata": {},
   "outputs": [
    {
     "name": "stdout",
     "output_type": "stream",
     "text": [
      "Area of Rectangle =  50\n"
     ]
    }
   ],
   "source": [
    "def area_rectangle(length, width):\n",
    "    area = length * width\n",
    "    return area\n",
    "print(\"Area of Rectangle = \",area_rectangle(length=10,width=5))"
   ]
  },
  {
   "cell_type": "markdown",
   "id": "6a18b30e",
   "metadata": {},
   "source": [
    "Prac2: Modify the Function: Modify the area_triangle(base, height) function to also return the perimeter of the triangle, assuming it is a right triangle. The perimeter can be calculated as ( \\text{Perimeter} = \\text{base} + \\text{height} + \\sqrt{(\\text{base}^2 + \\text{height}^2)} )."
   ]
  },
  {
   "cell_type": "code",
   "execution_count": 8,
   "id": "9b5b3602",
   "metadata": {},
   "outputs": [
    {
     "name": "stdout",
     "output_type": "stream",
     "text": [
      "area_triangle  25.0\n",
      "Perimeter of Triagle =  26.18033988749895\n"
     ]
    }
   ],
   "source": [
    "import math\n",
    "def area_triangle(base, height):\n",
    "    area_triangle = (1/2)*base*height\n",
    "    perimeter_triagle = base + height + math.sqrt(base**2 + height**2)\n",
    "    print(\"area_triangle \",area_triangle)\n",
    "    print(\"Perimeter of Triagle = \",perimeter_triagle)\n",
    "area_triangle(10,5)"
   ]
  },
  {
   "cell_type": "markdown",
   "id": "08f94454",
   "metadata": {},
   "source": [
    "Prac3: Convert Time: Write a function called convert_minutes(minutes) that converts a given number of minutes into hours and remaining minutes. For example, if the input is 130, the output should be 2 hours and 10 minutes."
   ]
  },
  {
   "cell_type": "markdown",
   "id": "67be36f1",
   "metadata": {},
   "source": [
    "Prac4: Greeting Function: Modify the greeting(name) function to return the greeting message instead of printing it. Then, call the function and store the result in a variable, and print that variable."
   ]
  },
  {
   "cell_type": "markdown",
   "id": "c7c0255b",
   "metadata": {},
   "source": [
    "Prac5: Sum of Areas: Write a code snippet that calculates the sum of the areas of two triangles with bases and heights of your choice (e.g., base 6, height 8 and base 4, height 5). Use the area_triangle function to compute the areas."
   ]
  },
  {
   "cell_type": "markdown",
   "id": "aef32bf6",
   "metadata": {},
   "source": [
    "Prac6: Calculate Volume: Write a function named volume_cylinder(radius, height) that calculates the volume of a cylinder using the formula ( \\text{Volume} = \\pi \\times \\text{radius}^2 \\times \\text{height} ). Use a value of 3.14 for (\\pi). Test your function with a radius of 3 and height of 5."
   ]
  },
  {
   "cell_type": "markdown",
   "id": "ff634bfe",
   "metadata": {},
   "source": [
    "Prac7: Convert Seconds to Minutes: Create a function called convert_seconds_to_minutes(seconds) that converts a given number of seconds into minutes and remaining seconds. For example, if the input is 125, the output should be 2 minutes and 5 seconds."
   ]
  },
  {
   "cell_type": "markdown",
   "id": "9bbe376e",
   "metadata": {},
   "source": [
    "Prac8: Greeting with Time: Modify the greeting(name) function to include the current time in the greeting message. Use the datetime module to get the current time and format it as \"HH:MM\"."
   ]
  },
  {
   "cell_type": "markdown",
   "id": "435eedc2",
   "metadata": {},
   "source": [
    "Prac9: Area of Multiple Triangles: Write a code snippet that calculates the areas of three triangles with the following dimensions: (base 5, height 10), (base 8, height 4), and (base 6, height 7). Print the total area of all three triangles."
   ]
  },
  {
   "cell_type": "markdown",
   "id": "2fa505e8",
   "metadata": {},
   "source": [
    "Prac10: Return Multiple Values: Modify the convert_seconds(seconds) function to also return the total number of days in addition to hours, minutes, and remaining seconds. For example, if the input is 100000 seconds, it should return the number of days, hours, minutes, and seconds."
   ]
  },
  {
   "cell_type": "markdown",
   "id": "d9a65cd4",
   "metadata": {},
   "source": [
    "Prac11: Calculate the Area of a Circle: Write a function named area_circle(radius) that calculates the area of a circle using the formula ( \\text{Area} = \\pi \\times \\text{radius}^2 ). Use a value of 3.14 for (\\pi). Test your function with a radius of 4."
   ]
  },
  {
   "cell_type": "markdown",
   "id": "d4e5426a",
   "metadata": {},
   "source": [
    "Prac12: Convert Hours to Seconds: Create a function called convert_hours_to_seconds(hours) that converts a given number of hours into seconds. For example, if the input is 2, the output should be 7200 seconds."
   ]
  },
  {
   "cell_type": "markdown",
   "id": "8a1bf796",
   "metadata": {},
   "source": [
    "Prac13: Personalized Greeting: Modify the greeting(name) function to accept an additional parameter for the time of day (e.g., \"morning\", \"afternoon\", \"evening\") and adjust the greeting message accordingly (e.g., \"Good morning, Christine!\")."
   ]
  },
  {
   "cell_type": "markdown",
   "id": "12b10aa6",
   "metadata": {},
   "source": [
    "Prac14: Sum of Areas with User Input: Write a code snippet that prompts the user to input the base and height of two triangles, calculates their areas using the area_triangle function, and prints the total area."
   ]
  },
  {
   "cell_type": "markdown",
   "id": "7931f76b",
   "metadata": {},
   "source": [
    "Prac15: Convert Seconds to Days, Hours, Minutes, and Seconds: Write a function called convert_total_seconds(total_seconds) that converts a given number of seconds into days, hours, minutes, and remaining seconds. For example, if the input is 90061 seconds, it should return 1 day, 1 hour, 1 minute, and 1 second."
   ]
  },
  {
   "cell_type": "markdown",
   "id": "10e0790e",
   "metadata": {},
   "source": [
    "Scenario Challenge: Imagine you are designing a program for a geometry application. Write a function called area_parallelogram(base, height) that calculates the area of a parallelogram. The formula is ( \\text{Area} = \\text{base} \\times \\text{height} ). Test your function with base 6 and height 4."
   ]
  },
  {
   "cell_type": "markdown",
   "id": "127300cf",
   "metadata": {},
   "source": [
    "Debugging Task: You have the following code snippet that is supposed to convert seconds into hours and minutes, but it has an error. Identify and fix the error:"
   ]
  },
  {
   "cell_type": "code",
   "execution_count": null,
   "id": "ca05e067",
   "metadata": {},
   "outputs": [],
   "source": [
    "def convert_seconds(seconds):\n",
    "    hours = seconds / 3600\n",
    "    minutes = (seconds % 3600) / 60\n",
    "    return hours, minutes"
   ]
  },
  {
   "cell_type": "markdown",
   "id": "428004ce",
   "metadata": {},
   "source": [
    "Real-World Application: You are tasked with creating a fitness tracker. Write a function named calories_burned(minutes, calories_per_minute) that calculates the total calories burned during a workout session. For example, if a user works out for 30 minutes and burns 5 calories per minute, what is the total calories burned?"
   ]
  },
  {
   "cell_type": "markdown",
   "id": "986cef5c",
   "metadata": {},
   "source": [
    "User Interaction: Create a program that asks the user for their name and the number of seconds they want to convert. Use the convert_seconds(seconds) function to display the result in hours, minutes, and seconds."
   ]
  },
  {
   "cell_type": "markdown",
   "id": "1db5db4d",
   "metadata": {},
   "source": [
    "Function Enhancement: Enhance the greeting(name) function to include a farewell message. After greeting the user, it should also say goodbye. For example, \"Welcome, Christine! Goodbye, Christine!\""
   ]
  },
  {
   "cell_type": "markdown",
   "id": "4d35fdeb",
   "metadata": {},
   "source": [
    "Application Development: You are developing a simple calculator for a school project. Write a function called calculate_average(grades) that takes a list of grades (numbers) as input and returns the average grade. Test your function with a list of grades: [85, 90, 78, 92, 88]."
   ]
  },
  {
   "cell_type": "markdown",
   "id": "39c783e6",
   "metadata": {},
   "source": [
    "Data Analysis: You are analyzing the time spent on different activities in a day. Write a function named total_time(activities) that takes a dictionary where the keys are activity names and the values are the time spent in minutes. The function should return the total time spent on all activities. For example, if the input is {\"Reading\": 30, \"Exercise\": 45, \"Gaming\": 60}, what is the total time?"
   ]
  },
  {
   "cell_type": "markdown",
   "id": "f88cca63",
   "metadata": {},
   "source": [
    "User Input Validation: Create a program that prompts the user to enter a number of seconds. Write a function called validate_seconds(seconds) that checks if the input is a non-negative integer. If it is valid, convert it to hours, minutes, and seconds using the convert_seconds(seconds) function; otherwise, print an error message."
   ]
  },
  {
   "cell_type": "markdown",
   "id": "0387fcc7",
   "metadata": {},
   "source": [
    "##### **Event Countdown:** <span style=\"font-size:16px\">You are building a countdown timer for an event. Write a function named countdown_timer(seconds) that takes a number of seconds as input and prints a countdown from that number to zero, pausing for one second between each number.</span>"
   ]
  },
  {
   "cell_type": "markdown",
   "id": "5e502096",
   "metadata": {},
   "source": [
    "##### **Personalized Farewell**: <span style=\"font-size:16px\">Modify the greeting(name) function to include a personalized farewell message based on the time of day. For example, if the time is morning, the farewell should be \"Have a great day, [name]!\" If it's evening, it should say \"Good night, [name]!\"</span>"
   ]
  },
  {
   "cell_type": "markdown",
   "id": "061390e1",
   "metadata": {},
   "source": [
    "##### **Logical:**<span style=\"font-size:16px\"> Finding Lucky Number</span>"
   ]
  },
  {
   "cell_type": "code",
   "execution_count": 9,
   "id": "9d7b4910",
   "metadata": {},
   "outputs": [
    {
     "name": "stdout",
     "output_type": "stream",
     "text": [
      "Hello Paravind. Your lucky number is 72\n",
      "Hello VISION. Your lucky number is 54\n"
     ]
    }
   ],
   "source": [
    "def lucky_number(name):\n",
    "    number = len(name) * 9\n",
    "    print(\"Hello \" + name + \". Your lucky number is \" + str(number))\n",
    "\n",
    "lucky_number(\"Paravind\")\n",
    "lucky_number(\"VISION\")"
   ]
  },
  {
   "cell_type": "markdown",
   "id": "d7a19346",
   "metadata": {},
   "source": [
    "<span style=\"font-size:16px\">This function calculates the number of days in a variable number of years, months, and days. These variables are provided by the user and are passed to the function through the function’s parameters. </span>"
   ]
  },
  {
   "cell_type": "code",
   "execution_count": 10,
   "id": "858be83b",
   "metadata": {},
   "outputs": [
    {
     "name": "stdout",
     "output_type": "stream",
     "text": [
      "903\n"
     ]
    }
   ],
   "source": [
    "# This function calculates the number of days in a variable number of \n",
    "# years, months, and days. These variables are provided by the user and\n",
    "# are passed to the function through the function’s parameters.\n",
    "def find_total_days(years, months, days):\n",
    "# Assign a variable to hold the calculations for the number of days in\n",
    "# a year (years*365) plus the number of days in a month (months*30) plus\n",
    "# the number of days provided through the \"days\" parameter variable.\n",
    "    my_days = (years*365) + (months*30) + days\n",
    "# Use the \"return\" keyword to send the result of the \"my_days\"  \n",
    "# calculation to the function call. \n",
    "    return my_days\n",
    " \n",
    "# Function call with user provided parameter values. \n",
    "print(find_total_days(2,5,23))"
   ]
  },
  {
   "cell_type": "markdown",
   "id": "940e2e37",
   "metadata": {},
   "source": [
    "Use a function to return the result of a measurement conversion\n",
    "\n",
    "Use arithmetic operators to perform a calculation\n",
    "\n",
    "Combine text with a function call within a print() statement\n",
    "\n",
    "Convert the return value from a float data type to a string for the print() function\n",
    "\n",
    "Call the function and perform a calculation on the return value within a print() statement"
   ]
  },
  {
   "cell_type": "code",
   "execution_count": null,
   "id": "f01fb903",
   "metadata": {},
   "outputs": [],
   "source": [
    "# This function converts fluid ounces to milliliters and returns the \n",
    "# result of the conversion.\n",
    "def convert_volume(fluid_ounce):\n",
    "# Calculate value of the \"ml\" variable using the parameter variable \n",
    "# \"fluid_ounce\". There are approximately 29.5 milliliters in 1 fluid\n",
    "# ounce.\n",
    "    ml = fluid_ounce * 29.5  \n",
    "# Return the result of the calculation.  \n",
    "    return ml\n",
    " \n",
    "# Call the conversion from within the print() function using 2 fluid \n",
    "# ounces. Convert the return value from a float to a string.  \n",
    "print(\"The volume in milliliters is \" + str(convert_volume(2)))\n",
    " \n",
    "# Call the function again and double the 2 fluid ounces from within\n",
    "# the print function.\n",
    "print(\"The volume in milliliters is \" + str(convert_volume(2)*2))\n",
    "# Alternative calculation:\n",
    "# print(\"The volume in milliliters is \" + str(convert_volume(4))\n"
   ]
  }
 ],
 "metadata": {
  "kernelspec": {
   "display_name": "Python 3",
   "language": "python",
   "name": "python3"
  },
  "language_info": {
   "codemirror_mode": {
    "name": "ipython",
    "version": 3
   },
   "file_extension": ".py",
   "mimetype": "text/x-python",
   "name": "python",
   "nbconvert_exporter": "python",
   "pygments_lexer": "ipython3",
   "version": "3.13.8"
  }
 },
 "nbformat": 4,
 "nbformat_minor": 5
}
